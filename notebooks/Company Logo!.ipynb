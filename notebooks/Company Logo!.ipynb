{
 "cells": [
  {
   "cell_type": "code",
   "execution_count": 129,
   "id": "b3dd7f3b",
   "metadata": {},
   "outputs": [
    {
     "name": "stdout",
     "output_type": "stream",
     "text": [
      "b 3\n",
      "a 2\n",
      "c 2\n"
     ]
    }
   ],
   "source": [
    "s = \"aabbbccde\".lower()\n",
    "freq = {}\n",
    "distinct = dict.fromkeys(s)\n",
    "for i in distinct:\n",
    "    freq[i] = s.count(i)\n",
    "top = sorted(freq.items(),key = lambda x:(-x[1],x[0]))[:3]\n",
    "for i,j in top:\n",
    "    print(i,j)"
   ]
  },
  {
   "cell_type": "code",
   "execution_count": 105,
   "id": "bb52da02",
   "metadata": {},
   "outputs": [
    {
     "name": "stdout",
     "output_type": "stream",
     "text": [
      "aabbbbeeessdfhg\n",
      "b 4\n",
      "e 3\n",
      "a 2\n"
     ]
    },
    {
     "data": {
      "text/plain": [
       "[None, None, None]"
      ]
     },
     "execution_count": 105,
     "metadata": {},
     "output_type": "execute_result"
    }
   ],
   "source": [
    "from collections import Counter\n",
    "\n",
    "class OrderedCounter(Counter):\n",
    "    pass\n",
    "\n",
    "[print(*c) for c in OrderedCounter(sorted(input())).most_common(3)]"
   ]
  },
  {
   "cell_type": "code",
   "execution_count": 106,
   "id": "6a750b93",
   "metadata": {},
   "outputs": [
    {
     "name": "stdout",
     "output_type": "stream",
     "text": [
      "b 3\n",
      "a 2\n",
      "c 2\n"
     ]
    }
   ],
   "source": [
    "Dict={}\n",
    "for x in sorted(s):\n",
    "    Dict[x]=Dict.get(x,0)+1   \n",
    "#Sorting Dict by value & storing sorted keys in Dict_keys.\n",
    "Dict_keys=sorted(Dict, key=Dict.get, reverse=True)  \n",
    "\n",
    "for key in Dict_keys[:3]:\n",
    "    print(key,Dict[key])"
   ]
  },
  {
   "cell_type": "code",
   "execution_count": null,
   "id": "0f80052b",
   "metadata": {},
   "outputs": [],
   "source": []
  }
 ],
 "metadata": {
  "kernelspec": {
   "display_name": "Python 3 (ipykernel)",
   "language": "python",
   "name": "python3"
  },
  "language_info": {
   "codemirror_mode": {
    "name": "ipython",
    "version": 3
   },
   "file_extension": ".py",
   "mimetype": "text/x-python",
   "name": "python",
   "nbconvert_exporter": "python",
   "pygments_lexer": "ipython3",
   "version": "3.7.11"
  }
 },
 "nbformat": 4,
 "nbformat_minor": 5
}
