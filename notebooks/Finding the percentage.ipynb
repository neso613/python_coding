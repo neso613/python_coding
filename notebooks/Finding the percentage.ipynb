{
 "cells": [
  {
   "cell_type": "code",
   "execution_count": 1,
   "id": "7bf45250",
   "metadata": {},
   "outputs": [
    {
     "name": "stdout",
     "output_type": "stream",
     "text": [
      "2\n"
     ]
    }
   ],
   "source": [
    "n = int(input())"
   ]
  },
  {
   "cell_type": "code",
   "execution_count": 2,
   "id": "591f7e3d",
   "metadata": {},
   "outputs": [
    {
     "name": "stdout",
     "output_type": "stream",
     "text": [
      "Harsh 25 26.5 28\n",
      "Anurag 26 28 30\n"
     ]
    },
    {
     "data": {
      "text/plain": [
       "{'Harsh': [25.0, 26.5, 28.0], 'Anurag': [26.0, 28.0, 30.0]}"
      ]
     },
     "execution_count": 2,
     "metadata": {},
     "output_type": "execute_result"
    }
   ],
   "source": [
    "dictt = {}\n",
    "for i in range(n):\n",
    "    x = input().split()\n",
    "    dictt[x[0]] = list(map(float,x[1:]))\n",
    "dictt    "
   ]
  },
  {
   "cell_type": "code",
   "execution_count": 3,
   "id": "23e634e0",
   "metadata": {},
   "outputs": [
    {
     "name": "stdout",
     "output_type": "stream",
     "text": [
      "Harsh\n"
     ]
    }
   ],
   "source": [
    "query_name = input()"
   ]
  },
  {
   "cell_type": "code",
   "execution_count": 4,
   "id": "6949dd8b",
   "metadata": {},
   "outputs": [
    {
     "name": "stdout",
     "output_type": "stream",
     "text": [
      "26.5\n",
      "26.50\n"
     ]
    }
   ],
   "source": [
    "if query_name in dictt.keys():\n",
    "    print(sum(dictt[query_name])/len(dictt[query_name]))\n",
    "    print('%.2f'%(sum(dictt[query_name])/len(dictt[query_name])))\n",
    "else:\n",
    "    print(\"student data in not present.\")"
   ]
  },
  {
   "cell_type": "code",
   "execution_count": 6,
   "id": "3b33a749",
   "metadata": {},
   "outputs": [
    {
     "name": "stdout",
     "output_type": "stream",
     "text": [
      "Harsh 25 26.5 28\n",
      "Anurag 26 28 30\n"
     ]
    }
   ],
   "source": [
    "student_marks = {}\n",
    "for _ in range(n):\n",
    "    name, *line = input().split()\n",
    "    scores = list(map(float, line))\n",
    "    student_marks[name] = scores"
   ]
  },
  {
   "cell_type": "code",
   "execution_count": null,
   "id": "0ab19e43",
   "metadata": {},
   "outputs": [],
   "source": []
  }
 ],
 "metadata": {
  "kernelspec": {
   "display_name": "Python 3 (ipykernel)",
   "language": "python",
   "name": "python3"
  },
  "language_info": {
   "codemirror_mode": {
    "name": "ipython",
    "version": 3
   },
   "file_extension": ".py",
   "mimetype": "text/x-python",
   "name": "python",
   "nbconvert_exporter": "python",
   "pygments_lexer": "ipython3",
   "version": "3.7.11"
  }
 },
 "nbformat": 4,
 "nbformat_minor": 5
}
