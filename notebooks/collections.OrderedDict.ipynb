{
 "cells": [
  {
   "cell_type": "code",
   "execution_count": 13,
   "id": "4df696f2",
   "metadata": {},
   "outputs": [],
   "source": [
    "from collections import OrderedDict\n",
    "ordered_dictionary = OrderedDict()"
   ]
  },
  {
   "cell_type": "code",
   "execution_count": 14,
   "id": "d85a26f4",
   "metadata": {},
   "outputs": [
    {
     "name": "stdout",
     "output_type": "stream",
     "text": [
      "3\n",
      "apple 10\n",
      "toofee 10\n",
      "apple 30\n"
     ]
    }
   ],
   "source": [
    "for i in range(int(input())):\n",
    "    splits = input().split()\n",
    "    a,b = \" \".join(splits[0:-1]),int(splits[-1])\n",
    "    if ordered_dictionary.get(a):\n",
    "        ordered_dictionary[a] += b\n",
    "    else:\n",
    "        ordered_dictionary[a] = b\n",
    "for i,v in ordered_dictionary.items():\n",
    "    print(i,v)"
   ]
  }
 ],
 "metadata": {
  "kernelspec": {
   "display_name": "Python 3 (ipykernel)",
   "language": "python",
   "name": "python3"
  },
  "language_info": {
   "codemirror_mode": {
    "name": "ipython",
    "version": 3
   },
   "file_extension": ".py",
   "mimetype": "text/x-python",
   "name": "python",
   "nbconvert_exporter": "python",
   "pygments_lexer": "ipython3",
   "version": "3.7.11"
  }
 },
 "nbformat": 4,
 "nbformat_minor": 5
}
