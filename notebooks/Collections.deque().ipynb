{
 "cells": [
  {
   "cell_type": "markdown",
   "id": "6fbb2ef4",
   "metadata": {},
   "source": [
    "A deque is a double-ended queue. It can be used to add or remove elements from both ends.\n",
    "\n",
    "Deques support thread safe, memory efficient appends and pops from either side of the deque with approximately the same  performance in either direction."
   ]
  },
  {
   "cell_type": "code",
   "execution_count": 8,
   "id": "b920e250",
   "metadata": {},
   "outputs": [],
   "source": [
    "from collections import deque"
   ]
  },
  {
   "cell_type": "code",
   "execution_count": 9,
   "id": "23a1d538",
   "metadata": {},
   "outputs": [],
   "source": [
    "N = 6                #int(input())  # no of operations\n",
    "t1 = 'append 1'.split()\n",
    "t2 = 'append 2'.split()\n",
    "t3 = 'append 3'.split()\n",
    "t4 = 'appendleft 4'.split()\n",
    "t5 = 'pop'.split()\n",
    "t6 = 'popleft'.split()\n",
    "d = deque()"
   ]
  },
  {
   "cell_type": "code",
   "execution_count": 11,
   "id": "1c0e76b8",
   "metadata": {},
   "outputs": [
    {
     "data": {
      "text/plain": [
       "deque(['4', '4', '1', '2', '3', '1', '2', '3'])"
      ]
     },
     "execution_count": 11,
     "metadata": {},
     "output_type": "execute_result"
    }
   ],
   "source": [
    "getattr(d,t1[0])(*t1[1])\n",
    "getattr(d,t2[0])(*t2[1])\n",
    "getattr(d,t3[0])(*t3[1])\n",
    "getattr(d,t4[0])(*t4[1])\n",
    "getattr(d,t5[0])(*t5[1])\n",
    "getattr(d,t6[0])(*t6[1])\n",
    "d"
   ]
  },
  {
   "cell_type": "code",
   "execution_count": 14,
   "id": "67b142ac",
   "metadata": {},
   "outputs": [
    {
     "name": "stdout",
     "output_type": "stream",
     "text": [
      "6\n",
      "append 1\n",
      "append 2\n",
      "append 3\n",
      "appendleft 4\n",
      "pop\n",
      "popleft\n",
      "1 2 "
     ]
    },
    {
     "data": {
      "text/plain": [
       "[None, None]"
      ]
     },
     "execution_count": 14,
     "metadata": {},
     "output_type": "execute_result"
    }
   ],
   "source": [
    "from collections import deque\n",
    "d = deque()\n",
    "for _ in range(int(input())):\n",
    "    cmd, *args = input().split()\n",
    "    getattr(d, cmd)(*args)\n",
    "[print(x, end=' ') for x in d]"
   ]
  },
  {
   "cell_type": "code",
   "execution_count": null,
   "id": "5218c297",
   "metadata": {},
   "outputs": [],
   "source": []
  }
 ],
 "metadata": {
  "kernelspec": {
   "display_name": "Python 3 (ipykernel)",
   "language": "python",
   "name": "python3"
  },
  "language_info": {
   "codemirror_mode": {
    "name": "ipython",
    "version": 3
   },
   "file_extension": ".py",
   "mimetype": "text/x-python",
   "name": "python",
   "nbconvert_exporter": "python",
   "pygments_lexer": "ipython3",
   "version": "3.7.11"
  }
 },
 "nbformat": 4,
 "nbformat_minor": 5
}
