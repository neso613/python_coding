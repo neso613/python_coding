{
 "cells": [
  {
   "cell_type": "code",
   "execution_count": 11,
   "id": "3fb47cd9",
   "metadata": {},
   "outputs": [],
   "source": [
    "a = [1,2,3,4]"
   ]
  },
  {
   "cell_type": "code",
   "execution_count": 12,
   "id": "d53a5c3f",
   "metadata": {},
   "outputs": [],
   "source": [
    "x = a[::-1]"
   ]
  },
  {
   "cell_type": "code",
   "execution_count": 20,
   "id": "8403cf9b",
   "metadata": {},
   "outputs": [
    {
     "data": {
      "text/plain": [
       "[4, 3, 2, 1]"
      ]
     },
     "execution_count": 20,
     "metadata": {},
     "output_type": "execute_result"
    }
   ],
   "source": [
    "x"
   ]
  },
  {
   "cell_type": "code",
   "execution_count": 24,
   "id": "f39504c4",
   "metadata": {},
   "outputs": [
    {
     "name": "stdout",
     "output_type": "stream",
     "text": [
      "4 3 2 1 "
     ]
    }
   ],
   "source": [
    "for i in range(len(x)):\n",
    "    print(x[i],end=' ')"
   ]
  },
  {
   "cell_type": "code",
   "execution_count": 25,
   "id": "b57175e4",
   "metadata": {},
   "outputs": [
    {
     "name": "stdout",
     "output_type": "stream",
     "text": [
      "4##3##2##1##"
     ]
    }
   ],
   "source": [
    "for i in range(len(x)):\n",
    "    print(x[i],end='##')"
   ]
  },
  {
   "cell_type": "code",
   "execution_count": 27,
   "id": "a7e059a9",
   "metadata": {},
   "outputs": [
    {
     "name": "stdout",
     "output_type": "stream",
     "text": [
      "4....3....2....1...."
     ]
    }
   ],
   "source": [
    "for i in range(len(x)):\n",
    "    print(x[i],end='....')"
   ]
  },
  {
   "cell_type": "code",
   "execution_count": null,
   "id": "656c2772",
   "metadata": {},
   "outputs": [],
   "source": []
  }
 ],
 "metadata": {
  "kernelspec": {
   "display_name": "Python 3 (ipykernel)",
   "language": "python",
   "name": "python3"
  },
  "language_info": {
   "codemirror_mode": {
    "name": "ipython",
    "version": 3
   },
   "file_extension": ".py",
   "mimetype": "text/x-python",
   "name": "python",
   "nbconvert_exporter": "python",
   "pygments_lexer": "ipython3",
   "version": "3.7.11"
  }
 },
 "nbformat": 4,
 "nbformat_minor": 5
}
