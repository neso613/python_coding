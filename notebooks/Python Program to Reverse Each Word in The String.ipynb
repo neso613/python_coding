{
 "cells": [
  {
   "cell_type": "code",
   "execution_count": 14,
   "id": "99c0f285",
   "metadata": {},
   "outputs": [],
   "source": [
    "Input = 'String to be reversed…'\n",
    "Expected_Output= 'gnirtS ot eb …desrever'"
   ]
  },
  {
   "cell_type": "code",
   "execution_count": 15,
   "id": "1643b8a5",
   "metadata": {},
   "outputs": [],
   "source": [
    "def func(word):\n",
    "    return word[::-1]\n",
    "def reverse_string(Input):\n",
    "    return \" \".join(list(map(func,Input.split(' '))))"
   ]
  },
  {
   "cell_type": "code",
   "execution_count": 16,
   "id": "624d5482",
   "metadata": {},
   "outputs": [
    {
     "name": "stdout",
     "output_type": "stream",
     "text": [
      "Done\n"
     ]
    }
   ],
   "source": [
    "Output = reverse_string(Input)\n",
    "if Expected_Output == Output:\n",
    "    print(\"Done\")\n",
    "else:\n",
    "    print(\"Try another logic\")"
   ]
  },
  {
   "cell_type": "code",
   "execution_count": null,
   "id": "107f5cec",
   "metadata": {},
   "outputs": [],
   "source": []
  }
 ],
 "metadata": {
  "kernelspec": {
   "display_name": "Python 3 (ipykernel)",
   "language": "python",
   "name": "python3"
  },
  "language_info": {
   "codemirror_mode": {
    "name": "ipython",
    "version": 3
   },
   "file_extension": ".py",
   "mimetype": "text/x-python",
   "name": "python",
   "nbconvert_exporter": "python",
   "pygments_lexer": "ipython3",
   "version": "3.7.11"
  }
 },
 "nbformat": 4,
 "nbformat_minor": 5
}
