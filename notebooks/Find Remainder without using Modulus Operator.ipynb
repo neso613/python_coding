{
 "cells": [
  {
   "cell_type": "code",
   "execution_count": 9,
   "id": "7af4f89e",
   "metadata": {},
   "outputs": [],
   "source": [
    "def remainder(num,d):\n",
    "    if num == 0:\n",
    "        return 0\n",
    "    elif d == 0:\n",
    "        return -1\n",
    "    else:\n",
    "        while num>=d:\n",
    "            num = num-d\n",
    "        return num"
   ]
  },
  {
   "cell_type": "code",
   "execution_count": 14,
   "id": "502a508e",
   "metadata": {},
   "outputs": [
    {
     "name": "stdout",
     "output_type": "stream",
     "text": [
      "Remainder of 10 divide by 3 = 1 ,By using Modeules :  1\n",
      "Remainder of 25 divide by 4 = 1 ,By using Modeules :  1\n",
      "Remainder of 100 divide by 7 = 2 ,By using Modeules :  2\n",
      "Remainder of 46 divide by 2 = 0 ,By using Modeules :  0\n"
     ]
    }
   ],
   "source": [
    "print(\"Remainder of %d divide by %d = %d\" % (10,3,remainder(13,3)),\",By using Modeules : \",10%3)\n",
    "print(\"Remainder of %d divide by %d = %d\" % (25,4,remainder(25,4)),\",By using Modeules : \",25%4)\n",
    "print(\"Remainder of %d divide by %d = %d\" % (100,7,remainder(100,7)),\",By using Modeules : \",100%7)\n",
    "print(\"Remainder of %d divide by %d = %d\" % (46,2,remainder(46,2)),\",By using Modeules : \",46%2)"
   ]
  },
  {
   "cell_type": "code",
   "execution_count": null,
   "id": "fef25bd8",
   "metadata": {},
   "outputs": [],
   "source": []
  }
 ],
 "metadata": {
  "kernelspec": {
   "display_name": "Python 3 (ipykernel)",
   "language": "python",
   "name": "python3"
  },
  "language_info": {
   "codemirror_mode": {
    "name": "ipython",
    "version": 3
   },
   "file_extension": ".py",
   "mimetype": "text/x-python",
   "name": "python",
   "nbconvert_exporter": "python",
   "pygments_lexer": "ipython3",
   "version": "3.7.11"
  }
 },
 "nbformat": 4,
 "nbformat_minor": 5
}
