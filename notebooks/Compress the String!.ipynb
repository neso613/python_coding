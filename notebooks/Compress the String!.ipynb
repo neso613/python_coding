{
 "cells": [
  {
   "cell_type": "markdown",
   "id": "5ef4f0c2",
   "metadata": {},
   "source": [
    "You are given a string,\"S\" . Suppose a character 'c' occurs consecutively X times in the string. Replace these consecutive occurrences of the character '(X,c)' with  in the string."
   ]
  },
  {
   "cell_type": "code",
   "execution_count": 4,
   "id": "0606a2e2",
   "metadata": {},
   "outputs": [],
   "source": [
    "s = '1222311'"
   ]
  },
  {
   "cell_type": "code",
   "execution_count": 5,
   "id": "e1c7d285",
   "metadata": {},
   "outputs": [],
   "source": [
    "from itertools import groupby"
   ]
  },
  {
   "cell_type": "code",
   "execution_count": 6,
   "id": "d300fe96",
   "metadata": {},
   "outputs": [
    {
     "name": "stdout",
     "output_type": "stream",
     "text": [
      "(1, 1) (3, 2) (1, 3) (2, 1)\n"
     ]
    }
   ],
   "source": [
    "print(*[(len(list(c)), int(k)) for k, c in groupby(s)])"
   ]
  },
  {
   "cell_type": "code",
   "execution_count": 7,
   "id": "08954079",
   "metadata": {},
   "outputs": [
    {
     "name": "stdout",
     "output_type": "stream",
     "text": [
      "(1, 1) (3, 2) (1, 3) (2, 1) "
     ]
    }
   ],
   "source": [
    "for c, items in groupby(s):\n",
    "    print(tuple([len(list(items)),int(c)]), end=' ')"
   ]
  },
  {
   "cell_type": "code",
   "execution_count": 8,
   "id": "b569cb8d",
   "metadata": {},
   "outputs": [
    {
     "name": "stdout",
     "output_type": "stream",
     "text": [
      "['1']\n",
      "['2', '2', '2']\n",
      "['3']\n",
      "['1', '1']\n"
     ]
    }
   ],
   "source": [
    "for i, n in groupby(s):\n",
    "    a = list(n)  \n",
    "    print(a)\n",
    "    #print(\"(\", len(a), \", \", a[0], \")\", end = \" \", sep = \"\")"
   ]
  },
  {
   "cell_type": "code",
   "execution_count": 24,
   "id": "5be51333",
   "metadata": {},
   "outputs": [
    {
     "name": "stdout",
     "output_type": "stream",
     "text": [
      "(1, 1) (3, 2) (1, 3) (2, 1) "
     ]
    }
   ],
   "source": [
    "for k, g in groupby(s):\n",
    "    print(\"({}, {})\".format(len(list(g)), k), end=\" \")"
   ]
  },
  {
   "cell_type": "code",
   "execution_count": null,
   "id": "f72440cc",
   "metadata": {},
   "outputs": [],
   "source": []
  }
 ],
 "metadata": {
  "kernelspec": {
   "display_name": "Python 3 (ipykernel)",
   "language": "python",
   "name": "python3"
  },
  "language_info": {
   "codemirror_mode": {
    "name": "ipython",
    "version": 3
   },
   "file_extension": ".py",
   "mimetype": "text/x-python",
   "name": "python",
   "nbconvert_exporter": "python",
   "pygments_lexer": "ipython3",
   "version": "3.7.11"
  }
 },
 "nbformat": 4,
 "nbformat_minor": 5
}
