{
 "cells": [
  {
   "cell_type": "code",
   "execution_count": 33,
   "id": "85db4f1a",
   "metadata": {},
   "outputs": [],
   "source": [
    "def generate_N_grams(text,n):\n",
    "    words = []\n",
    "    words = text.split(' ')\n",
    "    for word in range(len(words)-(n-1)):\n",
    "        print(words[word:word+n])"
   ]
  },
  {
   "cell_type": "code",
   "execution_count": 34,
   "id": "5bc40de1",
   "metadata": {},
   "outputs": [
    {
     "name": "stdout",
     "output_type": "stream",
     "text": [
      "['The', 'sun']\n",
      "['sun', 'rises']\n",
      "['rises', 'in']\n",
      "['in', 'the']\n",
      "['the', 'east']\n"
     ]
    }
   ],
   "source": [
    "generate_N_grams(\"The sun rises in the east\",2)"
   ]
  },
  {
   "cell_type": "code",
   "execution_count": 35,
   "id": "15bd68f9",
   "metadata": {},
   "outputs": [
    {
     "name": "stdout",
     "output_type": "stream",
     "text": [
      "['The', 'sun', 'rises']\n",
      "['sun', 'rises', 'in']\n",
      "['rises', 'in', 'the']\n",
      "['in', 'the', 'east']\n"
     ]
    }
   ],
   "source": [
    "generate_N_grams(\"The sun rises in the east\",3)"
   ]
  },
  {
   "cell_type": "code",
   "execution_count": 36,
   "id": "d872d1f7",
   "metadata": {},
   "outputs": [
    {
     "name": "stdout",
     "output_type": "stream",
     "text": [
      "['The', 'sun', 'rises', 'in']\n",
      "['sun', 'rises', 'in', 'the']\n",
      "['rises', 'in', 'the', 'east']\n"
     ]
    }
   ],
   "source": [
    "generate_N_grams(\"The sun rises in the east\",4)"
   ]
  },
  {
   "cell_type": "code",
   "execution_count": 37,
   "id": "9e2eab7e",
   "metadata": {},
   "outputs": [
    {
     "name": "stdout",
     "output_type": "stream",
     "text": [
      "['The']\n",
      "['sun']\n",
      "['rises']\n",
      "['in']\n",
      "['the']\n",
      "['east']\n"
     ]
    }
   ],
   "source": [
    "generate_N_grams(\"The sun rises in the east\",1)"
   ]
  },
  {
   "cell_type": "code",
   "execution_count": null,
   "id": "47e70d52",
   "metadata": {},
   "outputs": [],
   "source": []
  }
 ],
 "metadata": {
  "kernelspec": {
   "display_name": "Python 3 (ipykernel)",
   "language": "python",
   "name": "python3"
  },
  "language_info": {
   "codemirror_mode": {
    "name": "ipython",
    "version": 3
   },
   "file_extension": ".py",
   "mimetype": "text/x-python",
   "name": "python",
   "nbconvert_exporter": "python",
   "pygments_lexer": "ipython3",
   "version": "3.7.11"
  }
 },
 "nbformat": 4,
 "nbformat_minor": 5
}
