{
 "cells": [
  {
   "cell_type": "code",
   "execution_count": 22,
   "id": "db687f57",
   "metadata": {},
   "outputs": [
    {
     "name": "stdout",
     "output_type": "stream",
     "text": [
      "4\n",
      "bcdef\n",
      "abcdefg\n",
      "bcde\n",
      "bcdef\n",
      "\n",
      "Distinct Words : 3\n",
      "Frequency : 2 1 1\n"
     ]
    }
   ],
   "source": [
    "n = int(input())\n",
    "words = []\n",
    "freq = []\n",
    "for i in range(n):\n",
    "    words.append(input())\n",
    "distinct_words = dict.fromkeys(words)\n",
    "for i in distinct_words:\n",
    "    freq.append(str(words.count(i)))\n",
    "print('\\nDistinct Words : {}'.format(len(distinct_words)))\n",
    "print(\"Frequency : {}\".format(\" \".join(freq)))"
   ]
  },
  {
   "cell_type": "code",
   "execution_count": null,
   "id": "2e7449ed",
   "metadata": {},
   "outputs": [],
   "source": []
  }
 ],
 "metadata": {
  "kernelspec": {
   "display_name": "Python 3 (ipykernel)",
   "language": "python",
   "name": "python3"
  },
  "language_info": {
   "codemirror_mode": {
    "name": "ipython",
    "version": 3
   },
   "file_extension": ".py",
   "mimetype": "text/x-python",
   "name": "python",
   "nbconvert_exporter": "python",
   "pygments_lexer": "ipython3",
   "version": "3.7.11"
  }
 },
 "nbformat": 4,
 "nbformat_minor": 5
}
