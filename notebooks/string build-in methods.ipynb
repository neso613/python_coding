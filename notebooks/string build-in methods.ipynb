{
 "cells": [
  {
   "cell_type": "code",
   "execution_count": 1,
   "id": "1b8a24ab",
   "metadata": {},
   "outputs": [],
   "source": [
    "my_str = \"my name is neha.\""
   ]
  },
  {
   "cell_type": "code",
   "execution_count": 2,
   "id": "04a5aa29",
   "metadata": {},
   "outputs": [
    {
     "data": {
      "text/plain": [
       "'My name is neha.'"
      ]
     },
     "execution_count": 2,
     "metadata": {},
     "output_type": "execute_result"
    }
   ],
   "source": [
    "my_str.capitalize()"
   ]
  },
  {
   "cell_type": "code",
   "execution_count": 5,
   "id": "ca4503a2",
   "metadata": {},
   "outputs": [
    {
     "data": {
      "text/plain": [
       "1"
      ]
     },
     "execution_count": 5,
     "metadata": {},
     "output_type": "execute_result"
    }
   ],
   "source": [
    "my_str.count('neha')"
   ]
  },
  {
   "cell_type": "code",
   "execution_count": 6,
   "id": "42f72eb8",
   "metadata": {},
   "outputs": [
    {
     "data": {
      "text/plain": [
       "11"
      ]
     },
     "execution_count": 6,
     "metadata": {},
     "output_type": "execute_result"
    }
   ],
   "source": [
    "my_str.find(\"neha\")"
   ]
  },
  {
   "cell_type": "code",
   "execution_count": 7,
   "id": "d9571719",
   "metadata": {},
   "outputs": [
    {
     "data": {
      "text/plain": [
       "11"
      ]
     },
     "execution_count": 7,
     "metadata": {},
     "output_type": "execute_result"
    }
   ],
   "source": [
    "my_str.index(\"neha\")"
   ]
  },
  {
   "cell_type": "code",
   "execution_count": 9,
   "id": "c767d6bc",
   "metadata": {},
   "outputs": [
    {
     "name": "stdout",
     "output_type": "stream",
     "text": [
      "MY NAME IS NEHA.\n",
      "my name is neha.\n"
     ]
    }
   ],
   "source": [
    "caps = my_str.swapcase()\n",
    "lows = caps.swapcase()\n",
    "print(caps)\n",
    "print(lows)\n"
   ]
  },
  {
   "cell_type": "code",
   "execution_count": null,
   "id": "ba910e8b",
   "metadata": {},
   "outputs": [],
   "source": []
  }
 ],
 "metadata": {
  "kernelspec": {
   "display_name": "Python 3 (ipykernel)",
   "language": "python",
   "name": "python3"
  },
  "language_info": {
   "codemirror_mode": {
    "name": "ipython",
    "version": 3
   },
   "file_extension": ".py",
   "mimetype": "text/x-python",
   "name": "python",
   "nbconvert_exporter": "python",
   "pygments_lexer": "ipython3",
   "version": "3.7.11"
  }
 },
 "nbformat": 4,
 "nbformat_minor": 5
}
