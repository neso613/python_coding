{
 "cells": [
  {
   "cell_type": "code",
   "execution_count": 8,
   "id": "753af632",
   "metadata": {},
   "outputs": [
    {
     "name": "stdout",
     "output_type": "stream",
     "text": [
      "5\n",
      "[0, 1, 1, 8, 27]\n"
     ]
    }
   ],
   "source": [
    "cube = lambda x: pow(x,3)# complete the lambda function \n",
    "def fibonacci(n):\n",
    "    # return a list of fibonacci numbers\n",
    "    lis = [0,1]\n",
    "    for i in range(2,n):\n",
    "        lis.append(lis[i-2] + lis[i-1])\n",
    "    return(lis)\n",
    "\n",
    "n = int(input())\n",
    "print(list(map(cube, fibonacci(n))))"
   ]
  },
  {
   "cell_type": "code",
   "execution_count": 12,
   "id": "f6353b72",
   "metadata": {},
   "outputs": [
    {
     "name": "stdout",
     "output_type": "stream",
     "text": [
      "5\n",
      "[0, 1, 1, 8, 27]\n"
     ]
    }
   ],
   "source": [
    "inp = int(input())\n",
    "\n",
    "cube = lambda x: x**3 \n",
    "\n",
    "def fibonacci(n):\n",
    "    a,b = 0,1\n",
    "    for i in range(n):\n",
    "        yield a\n",
    "        a,b = b,a+b\n",
    "\n",
    "print(list(map(cube, list(fibonacci(inp)))))"
   ]
  },
  {
   "cell_type": "code",
   "execution_count": 11,
   "id": "5cb363db",
   "metadata": {},
   "outputs": [
    {
     "name": "stdout",
     "output_type": "stream",
     "text": [
      "5\n",
      "[0, 1, 1, 8, 27]\n"
     ]
    }
   ],
   "source": [
    "fib = lambda y: y if y < 2 else fib(y - 1) + fib(y - 2)\n",
    "print(list(map(lambda x: x**3, map(fib, range(int(input()))))))"
   ]
  },
  {
   "cell_type": "code",
   "execution_count": null,
   "id": "d2eaaf1c",
   "metadata": {},
   "outputs": [],
   "source": []
  }
 ],
 "metadata": {
  "kernelspec": {
   "display_name": "Python 3 (ipykernel)",
   "language": "python",
   "name": "python3"
  },
  "language_info": {
   "codemirror_mode": {
    "name": "ipython",
    "version": 3
   },
   "file_extension": ".py",
   "mimetype": "text/x-python",
   "name": "python",
   "nbconvert_exporter": "python",
   "pygments_lexer": "ipython3",
   "version": "3.7.11"
  }
 },
 "nbformat": 4,
 "nbformat_minor": 5
}
