{
 "cells": [
  {
   "cell_type": "markdown",
   "id": "f7d88f56",
   "metadata": {},
   "source": [
    "collections.Counter()\n",
    "A counter is a container that stores elements as dictionary keys, and their counts are stored as dictionary values."
   ]
  },
  {
   "cell_type": "code",
   "execution_count": 1,
   "id": "7ad73ac3",
   "metadata": {},
   "outputs": [],
   "source": [
    "from collections import Counter"
   ]
  },
  {
   "cell_type": "code",
   "execution_count": 7,
   "id": "6baa2c1a",
   "metadata": {},
   "outputs": [
    {
     "name": "stdout",
     "output_type": "stream",
     "text": [
      "Counter({2: 4, 3: 4, 1: 3, 4: 2, 5: 1})\n",
      "dict_values([3, 4, 4, 2, 1])\n",
      "dict_keys([1, 2, 3, 4, 5])\n",
      "dict_items([(1, 3), (2, 4), (3, 4), (4, 2), (5, 1)])\n"
     ]
    }
   ],
   "source": [
    "myList = [1,1,2,3,4,5,3,2,3,4,2,1,2,3]\n",
    "print(Counter(myList))\n",
    "print(Counter(myList).values())\n",
    "print(Counter(myList).keys())\n",
    "print(Counter(myList).items())"
   ]
  },
  {
   "cell_type": "code",
   "execution_count": 49,
   "id": "5159550f",
   "metadata": {},
   "outputs": [
    {
     "name": "stdout",
     "output_type": "stream",
     "text": [
      "['6', '55']\n",
      "Counter({'5': 2, '6': 2, '2': 1, '3': 1, '4': 1, '8': 1, '7': 1, '18': 1})\n",
      "$200\n"
     ]
    }
   ],
   "source": [
    "X = 10                        #no of shoes\n",
    "listOfShoesSizes = \"2 3 4 5 6 8 7 6 5 18\".split()\n",
    "customer = 6                  #no of customers\n",
    "c1 = list(map(str,\"6 55\".split()))\n",
    "c2 = list(map(str,\"6 45\".split()))\n",
    "c3 = list(map(str,\"6 55\".split()))\n",
    "c4 = list(map(str,\"4 40\".split()))\n",
    "c5 = list(map(str,\"18 60\".split()))\n",
    "c6 = list(map(str,\"10 50\".split()))\n",
    "print(c1)\n",
    "shoes_stats = Counter(listOfShoesSizes)\n",
    "print(shoes_stats)\n",
    "income = 0\n",
    "for i in range(customer):\n",
    "    if c1[0] in shoes_stats.keys() and shoes_stats[c1[0]]!=0:\n",
    "        income +=  int(c1[1])\n",
    "        shoes_stats[c1[0]] -= 1\n",
    "    if c2[0] in shoes_stats.keys() and shoes_stats[c2[0]]!=0:\n",
    "        income +=  int(c2[1])\n",
    "        shoes_stats[c2[0]] -= 1\n",
    "    if c3[0] in shoes_stats.keys() and shoes_stats[c3[0]]!=0:\n",
    "        income +=  int(c3[1])\n",
    "        shoes_stats[c3[0]] -= 1\n",
    "    if c4[0] in shoes_stats.keys() and shoes_stats[c4[0]]!=0:\n",
    "        income +=  int(c4[1])\n",
    "        shoes_stats[c4[0]] -= 1\n",
    "    if c5[0] in shoes_stats.keys() and shoes_stats[c5[0]]!=0:\n",
    "        income +=  int(c5[1])\n",
    "        shoes_stats[c5[0]] -= 1\n",
    "    if c6[0] in shoes_stats.keys() and shoes_stats[c6[0]]!=0:\n",
    "        income +=  int(c6[1])\n",
    "        shoes_stats[c6[0]] -= 1\n",
    "\n",
    "print('$'+str(income)) "
   ]
  },
  {
   "cell_type": "code",
   "execution_count": 51,
   "id": "c6054936",
   "metadata": {},
   "outputs": [
    {
     "name": "stdout",
     "output_type": "stream",
     "text": [
      "10\n",
      "2 3 4 5 6 8 7 6 5 18\n",
      "6\n",
      "6 55\n",
      "6 45\n",
      "6 55\n",
      "4 40\n",
      "10 50\n",
      "18 60\n",
      "200\n"
     ]
    }
   ],
   "source": [
    "N = int(input())\n",
    "shoes_size_stats = Counter(map(int,input().split()))\n",
    "customers = int(input())\n",
    "\n",
    "income = 0\n",
    "\n",
    "for i in range(customers):\n",
    "    size, price = map(int,input().split())\n",
    "    if shoes_size_stats[size]: \n",
    "        income += price\n",
    "        shoes_size_stats[size] -= 1\n",
    "\n",
    "print(income)"
   ]
  },
  {
   "cell_type": "code",
   "execution_count": null,
   "id": "5b854167",
   "metadata": {},
   "outputs": [],
   "source": []
  },
  {
   "cell_type": "code",
   "execution_count": null,
   "id": "a8078ca2",
   "metadata": {},
   "outputs": [],
   "source": []
  },
  {
   "cell_type": "code",
   "execution_count": null,
   "id": "4365ecdc",
   "metadata": {},
   "outputs": [],
   "source": []
  }
 ],
 "metadata": {
  "kernelspec": {
   "display_name": "Python 3 (ipykernel)",
   "language": "python",
   "name": "python3"
  },
  "language_info": {
   "codemirror_mode": {
    "name": "ipython",
    "version": 3
   },
   "file_extension": ".py",
   "mimetype": "text/x-python",
   "name": "python",
   "nbconvert_exporter": "python",
   "pygments_lexer": "ipython3",
   "version": "3.7.11"
  }
 },
 "nbformat": 4,
 "nbformat_minor": 5
}
