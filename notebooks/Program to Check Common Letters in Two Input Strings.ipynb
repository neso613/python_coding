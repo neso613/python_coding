{
 "cells": [
  {
   "cell_type": "code",
   "execution_count": 1,
   "id": "222cc978",
   "metadata": {},
   "outputs": [],
   "source": [
    "a = 'My name is neha'\n",
    "b = 'My name is kanak'"
   ]
  },
  {
   "cell_type": "code",
   "execution_count": 2,
   "id": "5f150586",
   "metadata": {},
   "outputs": [
    {
     "name": "stdout",
     "output_type": "stream",
     "text": [
      "My name is neha\n",
      "My name is kanak\n"
     ]
    }
   ],
   "source": [
    "print(a)\n",
    "print(b)"
   ]
  },
  {
   "cell_type": "code",
   "execution_count": 3,
   "id": "c168b9a5",
   "metadata": {},
   "outputs": [],
   "source": [
    "x = list(set(a) & set(b))"
   ]
  },
  {
   "cell_type": "code",
   "execution_count": 4,
   "id": "743aaf89",
   "metadata": {},
   "outputs": [
    {
     "data": {
      "text/plain": [
       "['M', 'n', ' ', 'y', 's', 'e', 'i', 'a', 'm']"
      ]
     },
     "execution_count": 4,
     "metadata": {},
     "output_type": "execute_result"
    }
   ],
   "source": [
    "x ## set is a unordered collection of unique elements"
   ]
  },
  {
   "cell_type": "code",
   "execution_count": 5,
   "id": "3ec64aa5",
   "metadata": {},
   "outputs": [
    {
     "name": "stdout",
     "output_type": "stream",
     "text": [
      "M\n",
      "n\n",
      " \n",
      "y\n",
      "s\n",
      "e\n",
      "i\n",
      "a\n",
      "m\n"
     ]
    }
   ],
   "source": [
    "for i in x:\n",
    "    print(i)"
   ]
  }
 ],
 "metadata": {
  "kernelspec": {
   "display_name": "Python 3 (ipykernel)",
   "language": "python",
   "name": "python3"
  },
  "language_info": {
   "codemirror_mode": {
    "name": "ipython",
    "version": 3
   },
   "file_extension": ".py",
   "mimetype": "text/x-python",
   "name": "python",
   "nbconvert_exporter": "python",
   "pygments_lexer": "ipython3",
   "version": "3.7.11"
  }
 },
 "nbformat": 4,
 "nbformat_minor": 5
}
