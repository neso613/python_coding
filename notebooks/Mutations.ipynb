{
 "cells": [
  {
   "cell_type": "code",
   "execution_count": 5,
   "id": "3b1b0e4f",
   "metadata": {},
   "outputs": [],
   "source": [
    "def mutate_string(string, position, character):\n",
    "    s = list(string)\n",
    "    s[position]=character\n",
    "    return \"\".join(s)"
   ]
  },
  {
   "cell_type": "code",
   "execution_count": 6,
   "id": "dde2aff3",
   "metadata": {},
   "outputs": [
    {
     "name": "stdout",
     "output_type": "stream",
     "text": [
      "abracadabra\n",
      "5 k\n",
      "abrackdabra\n"
     ]
    }
   ],
   "source": [
    "s = input()\n",
    "i, c = input().split()\n",
    "s_new = mutate_string(s, int(i), c)\n",
    "print(s_new)"
   ]
  },
  {
   "cell_type": "code",
   "execution_count": null,
   "id": "ec6f40d8",
   "metadata": {},
   "outputs": [],
   "source": []
  }
 ],
 "metadata": {
  "kernelspec": {
   "display_name": "Python 3 (ipykernel)",
   "language": "python",
   "name": "python3"
  },
  "language_info": {
   "codemirror_mode": {
    "name": "ipython",
    "version": 3
   },
   "file_extension": ".py",
   "mimetype": "text/x-python",
   "name": "python",
   "nbconvert_exporter": "python",
   "pygments_lexer": "ipython3",
   "version": "3.7.11"
  }
 },
 "nbformat": 4,
 "nbformat_minor": 5
}
