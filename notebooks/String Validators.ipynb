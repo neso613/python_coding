{
 "cells": [
  {
   "cell_type": "code",
   "execution_count": 2,
   "id": "1ca7f075",
   "metadata": {},
   "outputs": [],
   "source": [
    "##Your task is to find out if the string  contains: alphanumeric characters, alphabetical characters, \n",
    "#digits, lowercase and uppercase characters."
   ]
  },
  {
   "cell_type": "code",
   "execution_count": 6,
   "id": "f28b9709",
   "metadata": {},
   "outputs": [],
   "source": [
    "s = 'qA2'"
   ]
  },
  {
   "cell_type": "code",
   "execution_count": 18,
   "id": "d38f2f35",
   "metadata": {},
   "outputs": [
    {
     "name": "stdout",
     "output_type": "stream",
     "text": [
      "True\n",
      "True\n",
      "True\n",
      "True\n",
      "True\n"
     ]
    }
   ],
   "source": [
    "for test in ('isalnum', 'isalpha', 'isdigit', 'islower', 'isupper'):\n",
    "    print(any(eval(\"c.\" + test + \"()\") for c in s))\n",
    " "
   ]
  },
  {
   "cell_type": "code",
   "execution_count": null,
   "id": "a60ec483",
   "metadata": {},
   "outputs": [],
   "source": []
  }
 ],
 "metadata": {
  "kernelspec": {
   "display_name": "Python 3 (ipykernel)",
   "language": "python",
   "name": "python3"
  },
  "language_info": {
   "codemirror_mode": {
    "name": "ipython",
    "version": 3
   },
   "file_extension": ".py",
   "mimetype": "text/x-python",
   "name": "python",
   "nbconvert_exporter": "python",
   "pygments_lexer": "ipython3",
   "version": "3.7.11"
  }
 },
 "nbformat": 4,
 "nbformat_minor": 5
}
