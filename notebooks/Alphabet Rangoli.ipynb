{
 "cells": [
  {
   "cell_type": "code",
   "execution_count": 24,
   "id": "964d19f2",
   "metadata": {},
   "outputs": [],
   "source": [
    "n=3\n",
    "char = 0\n",
    "if 0<n and n<27:\n",
    "    char=chr(96+n)"
   ]
  },
  {
   "cell_type": "code",
   "execution_count": 25,
   "id": "6b3159a8",
   "metadata": {},
   "outputs": [
    {
     "data": {
      "text/plain": [
       "('c', 3)"
      ]
     },
     "execution_count": 25,
     "metadata": {},
     "output_type": "execute_result"
    }
   ],
   "source": [
    "char,n"
   ]
  },
  {
   "cell_type": "code",
   "execution_count": 39,
   "id": "8f864855",
   "metadata": {},
   "outputs": [
    {
     "name": "stdout",
     "output_type": "stream",
     "text": [
      "1\n",
      "['-', '-', 'b', '-', '-']\n",
      "0\n",
      "['b', '-', 'a', '-', 'b']\n",
      "-1\n",
      "['-', '-', 'b', '-', '-']\n"
     ]
    }
   ],
   "source": [
    "import string\n",
    "N = 2\n",
    "alphabet = string.ascii_lowercase\n",
    "\n",
    "for i in range(N-1, -N, -1):\n",
    "    print(i)\n",
    "    row = [\"-\"]*(4*N-3)\n",
    "    for j in range(0, N - abs(i)):\n",
    "        row[2*(N-1+j)] = alphabet[abs(i)+j]\n",
    "        row[2*(N-1-j)] = alphabet[abs(i)+j]\n",
    "    print(row)\n",
    "    #print(\"\".join(row))"
   ]
  },
  {
   "cell_type": "code",
   "execution_count": null,
   "id": "ac27644c",
   "metadata": {},
   "outputs": [],
   "source": []
  }
 ],
 "metadata": {
  "kernelspec": {
   "display_name": "Python 3 (ipykernel)",
   "language": "python",
   "name": "python3"
  },
  "language_info": {
   "codemirror_mode": {
    "name": "ipython",
    "version": 3
   },
   "file_extension": ".py",
   "mimetype": "text/x-python",
   "name": "python",
   "nbconvert_exporter": "python",
   "pygments_lexer": "ipython3",
   "version": "3.7.11"
  }
 },
 "nbformat": 4,
 "nbformat_minor": 5
}
