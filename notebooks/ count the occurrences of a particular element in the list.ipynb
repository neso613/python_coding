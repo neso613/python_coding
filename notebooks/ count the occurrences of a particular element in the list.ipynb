{
 "cells": [
  {
   "cell_type": "code",
   "execution_count": 1,
   "id": "4d4c02ee",
   "metadata": {},
   "outputs": [],
   "source": [
    "weekdays = ['sun','mon','tue','wed','thr','fri','sat']"
   ]
  },
  {
   "cell_type": "code",
   "execution_count": 2,
   "id": "f978b4db",
   "metadata": {},
   "outputs": [
    {
     "data": {
      "text/plain": [
       "['sun', 'mon', 'tue', 'wed', 'thr', 'fri', 'sat']"
      ]
     },
     "execution_count": 2,
     "metadata": {},
     "output_type": "execute_result"
    }
   ],
   "source": [
    "weekdays"
   ]
  },
  {
   "cell_type": "code",
   "execution_count": 3,
   "id": "164f540d",
   "metadata": {},
   "outputs": [
    {
     "name": "stdout",
     "output_type": "stream",
     "text": [
      "1\n"
     ]
    }
   ],
   "source": [
    "print(weekdays.count('sun'))\n"
   ]
  },
  {
   "cell_type": "code",
   "execution_count": 4,
   "id": "66232ebd",
   "metadata": {},
   "outputs": [
    {
     "name": "stdout",
     "output_type": "stream",
     "text": [
      "['sun', 'mon', 'tue', 'wed', 'thr', 'fri', 'sat', 'sun', 'sun']\n",
      "3\n"
     ]
    }
   ],
   "source": [
    "weekdays = ['sun','mon','tue','wed','thr','fri','sat','sun','sun']\n",
    "print(weekdays)\n",
    "print(weekdays.count('sun'))"
   ]
  },
  {
   "cell_type": "code",
   "execution_count": 5,
   "id": "465bd4de",
   "metadata": {},
   "outputs": [
    {
     "name": "stdout",
     "output_type": "stream",
     "text": [
      "['sun', 'mon', 'tue', 'wed', 'thr', 'fri', 'sat', 'sun']\n",
      "2\n"
     ]
    }
   ],
   "source": [
    "weekdays = ['sun','mon','tue','wed','thr','fri','sat','sun']\n",
    "print(weekdays)\n",
    "print(weekdays.count('sun'))"
   ]
  },
  {
   "cell_type": "code",
   "execution_count": null,
   "id": "1c58faf7",
   "metadata": {},
   "outputs": [],
   "source": []
  }
 ],
 "metadata": {
  "kernelspec": {
   "display_name": "Python 3 (ipykernel)",
   "language": "python",
   "name": "python3"
  },
  "language_info": {
   "codemirror_mode": {
    "name": "ipython",
    "version": 3
   },
   "file_extension": ".py",
   "mimetype": "text/x-python",
   "name": "python",
   "nbconvert_exporter": "python",
   "pygments_lexer": "ipython3",
   "version": "3.7.11"
  }
 },
 "nbformat": 4,
 "nbformat_minor": 5
}
