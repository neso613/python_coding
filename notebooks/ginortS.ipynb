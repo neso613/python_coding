{
 "cells": [
  {
   "cell_type": "code",
   "execution_count": 1,
   "id": "1dd76d5c",
   "metadata": {},
   "outputs": [],
   "source": [
    "s = 'Sorting1234'"
   ]
  },
  {
   "cell_type": "code",
   "execution_count": 4,
   "id": "aff8d930",
   "metadata": {},
   "outputs": [
    {
     "name": "stdout",
     "output_type": "stream",
     "text": [
      "['g', 'i', 'n', 'o', 'r', 't', 'S', '1', '3', '2', '4']\n",
      "ginortS1324\n"
     ]
    }
   ],
   "source": [
    "order = 'abcdefghijklmnopqrstuvwxyzABCDEFGHIJKLMNOPQRSTUVWXYZ1357902468'\n",
    "print(sorted(s, key=order.index), sep='')\n",
    "print(*sorted(s, key=order.index), sep='')"
   ]
  },
  {
   "cell_type": "code",
   "execution_count": null,
   "id": "5665ebc1",
   "metadata": {},
   "outputs": [],
   "source": []
  }
 ],
 "metadata": {
  "kernelspec": {
   "display_name": "Python 3 (ipykernel)",
   "language": "python",
   "name": "python3"
  },
  "language_info": {
   "codemirror_mode": {
    "name": "ipython",
    "version": 3
   },
   "file_extension": ".py",
   "mimetype": "text/x-python",
   "name": "python",
   "nbconvert_exporter": "python",
   "pygments_lexer": "ipython3",
   "version": "3.7.11"
  }
 },
 "nbformat": 4,
 "nbformat_minor": 5
}
