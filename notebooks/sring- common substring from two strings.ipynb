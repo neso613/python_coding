{
 "cells": [
  {
   "cell_type": "markdown",
   "id": "3a0e9b68",
   "metadata": {},
   "source": [
    "s1 = \"ABC\"\n",
    "s2 = \"ABD\"\n",
    "\n",
    "\n",
    "These strings have two children with maximum length 3, ABC and ABD. They can be formed by eliminating either the D or C from both strings. Return ."
   ]
  },
  {
   "cell_type": "code",
   "execution_count": 10,
   "id": "a46f7c1c",
   "metadata": {},
   "outputs": [],
   "source": [
    "def common_child(s1, s2):\n",
    "    common_letters = set(s1) & set(s2)\n",
    "    print(\"intersect: {}\".format(common_letters))\n",
    "    if (not bool(common_letters)):\n",
    "        return 0\n",
    "    s1_filt = \"\".join([x for x in s1 if x in common_letters])\n",
    "    s2_filt = \"\".join([x for x in s2 if x in common_letters])\n",
    "    print(\"s1_filt: {}\".format(s1_filt))\n",
    "    print(\"s2_filt: {}\".format(s2_filt))\n",
    "    return s1_filt,s2_filt,list(common_letters)\n"
   ]
  },
  {
   "cell_type": "code",
   "execution_count": 2,
   "id": "f3937bc5",
   "metadata": {},
   "outputs": [
    {
     "name": "stdout",
     "output_type": "stream",
     "text": [
      "intersect: {'A', 'Y'}\n",
      "s1_filt: AY\n",
      "s2_filt: AY\n"
     ]
    }
   ],
   "source": [
    "common_child(\"HARRY\",\"SALLY\")"
   ]
  },
  {
   "cell_type": "code",
   "execution_count": 3,
   "id": "5b098190",
   "metadata": {},
   "outputs": [
    {
     "name": "stdout",
     "output_type": "stream",
     "text": [
      "intersect: set()\n"
     ]
    },
    {
     "data": {
      "text/plain": [
       "0"
      ]
     },
     "execution_count": 3,
     "metadata": {},
     "output_type": "execute_result"
    }
   ],
   "source": [
    "common_child(\"AA\",\"BB\")"
   ]
  },
  {
   "cell_type": "code",
   "execution_count": 4,
   "id": "0773b7f0",
   "metadata": {},
   "outputs": [
    {
     "name": "stdout",
     "output_type": "stream",
     "text": [
      "intersect: {'A', 'B', 'D', 'F'}\n",
      "s1_filt: ABDF\n",
      "s2_filt: FBDA\n"
     ]
    }
   ],
   "source": [
    "common_child(\"ABCDEF\",\"FBDAMN\")"
   ]
  },
  {
   "cell_type": "code",
   "execution_count": 12,
   "id": "d6532ed0",
   "metadata": {},
   "outputs": [
    {
     "name": "stdout",
     "output_type": "stream",
     "text": [
      "intersect: {'A', 'H', 'N'}\n",
      "s1_filt: HNHAN\n",
      "s2_filt: NHAAAA\n"
     ]
    },
    {
     "data": {
      "text/plain": [
       "('HNHAN', 'NHAAAA', ['A', 'H', 'N'])"
      ]
     },
     "execution_count": 12,
     "metadata": {},
     "output_type": "execute_result"
    }
   ],
   "source": [
    "new_s1,new_s2,common_letters = common_child(\"SHINCHAN\",\"NOHARAAA\")\n",
    "new_s1,new_s2,common_letters"
   ]
  },
  {
   "cell_type": "code",
   "execution_count": 27,
   "id": "09ccb5ba",
   "metadata": {},
   "outputs": [
    {
     "name": "stdout",
     "output_type": "stream",
     "text": [
      "AN ... A\n",
      "HNHAN ... H\n",
      "HAN ... H\n",
      "NHAN ... N\n",
      "N ... N\n"
     ]
    }
   ],
   "source": [
    "for i in common_letters:\n",
    "    for j in range(len(new_s1)):\n",
    "        if i == new_s1[j]:\n",
    "            print(new_s1[j:],\"...\",i)"
   ]
  },
  {
   "cell_type": "code",
   "execution_count": null,
   "id": "c5c76aa0",
   "metadata": {},
   "outputs": [],
   "source": []
  }
 ],
 "metadata": {
  "kernelspec": {
   "display_name": "Python 3 (ipykernel)",
   "language": "python",
   "name": "python3"
  },
  "language_info": {
   "codemirror_mode": {
    "name": "ipython",
    "version": 3
   },
   "file_extension": ".py",
   "mimetype": "text/x-python",
   "name": "python",
   "nbconvert_exporter": "python",
   "pygments_lexer": "ipython3",
   "version": "3.7.11"
  }
 },
 "nbformat": 4,
 "nbformat_minor": 5
}
