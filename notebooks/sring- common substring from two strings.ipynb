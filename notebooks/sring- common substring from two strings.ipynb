{
 "cells": [
  {
   "cell_type": "markdown",
   "id": "3a0e9b68",
   "metadata": {},
   "source": [
    "s1 = \"ABC\"\n",
    "s2 = \"ABD\"\n",
    "\n",
    "\n",
    "These strings have two children with maximum length 3, ABC and ABD. They can be formed by eliminating either the D or C from both strings. Return ."
   ]
  },
  {
   "cell_type": "code",
   "execution_count": 20,
   "id": "a46f7c1c",
   "metadata": {},
   "outputs": [],
   "source": [
    "def common_child(s1, s2):\n",
    "    common_letters = set(s1) & set(s2)\n",
    "    print(\"intersect: {}\".format(common_letters))\n",
    "    if (not bool(common_letters)):\n",
    "        return 0\n",
    "    s1_filt = \"\".join([x for x in s1 if x in common_letters])\n",
    "    s2_filt = \"\".join([x for x in s2 if x in common_letters])\n",
    "    print(\"s1_filt: {}\".format(s1_filt))\n",
    "    print(\"s2_filt: {}\".format(s2_filt))\n"
   ]
  },
  {
   "cell_type": "code",
   "execution_count": 21,
   "id": "f3937bc5",
   "metadata": {},
   "outputs": [
    {
     "name": "stdout",
     "output_type": "stream",
     "text": [
      "intersect: {'Y', 'A'}\n",
      "s1_filt: AY\n",
      "s2_filt: AY\n"
     ]
    }
   ],
   "source": [
    "common_child(\"HARRY\",\"SALLY\")"
   ]
  },
  {
   "cell_type": "code",
   "execution_count": 22,
   "id": "5b098190",
   "metadata": {},
   "outputs": [
    {
     "name": "stdout",
     "output_type": "stream",
     "text": [
      "intersect: set()\n"
     ]
    },
    {
     "data": {
      "text/plain": [
       "0"
      ]
     },
     "execution_count": 22,
     "metadata": {},
     "output_type": "execute_result"
    }
   ],
   "source": [
    "common_child(\"AA\",\"BB\")"
   ]
  },
  {
   "cell_type": "code",
   "execution_count": 23,
   "id": "0773b7f0",
   "metadata": {},
   "outputs": [
    {
     "name": "stdout",
     "output_type": "stream",
     "text": [
      "intersect: {'F', 'A', 'D', 'B'}\n",
      "s1_filt: ABDF\n",
      "s2_filt: FBDA\n"
     ]
    }
   ],
   "source": [
    "common_child(\"ABCDEF\",\"FBDAMN\")"
   ]
  },
  {
   "cell_type": "code",
   "execution_count": 24,
   "id": "d6532ed0",
   "metadata": {},
   "outputs": [
    {
     "name": "stdout",
     "output_type": "stream",
     "text": [
      "intersect: {'N', 'A', 'H'}\n",
      "s1_filt: HNHAN\n",
      "s2_filt: NHAAAA\n"
     ]
    }
   ],
   "source": [
    "common_child(\"SHINCHAN\",\"NOHARAAA\")"
   ]
  },
  {
   "cell_type": "code",
   "execution_count": null,
   "id": "09ccb5ba",
   "metadata": {},
   "outputs": [],
   "source": []
  }
 ],
 "metadata": {
  "kernelspec": {
   "display_name": "Python 3 (ipykernel)",
   "language": "python",
   "name": "python3"
  },
  "language_info": {
   "codemirror_mode": {
    "name": "ipython",
    "version": 3
   },
   "file_extension": ".py",
   "mimetype": "text/x-python",
   "name": "python",
   "nbconvert_exporter": "python",
   "pygments_lexer": "ipython3",
   "version": "3.7.11"
  }
 },
 "nbformat": 4,
 "nbformat_minor": 5
}
