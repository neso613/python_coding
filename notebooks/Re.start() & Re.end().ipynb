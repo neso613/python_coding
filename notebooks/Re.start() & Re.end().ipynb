{
 "cells": [
  {
   "cell_type": "code",
   "execution_count": 1,
   "id": "8dd78a9b",
   "metadata": {},
   "outputs": [],
   "source": [
    "import re"
   ]
  },
  {
   "cell_type": "code",
   "execution_count": 3,
   "id": "aea88f04",
   "metadata": {},
   "outputs": [
    {
     "data": {
      "text/plain": [
       "(4, 0)"
      ]
     },
     "execution_count": 3,
     "metadata": {},
     "output_type": "execute_result"
    }
   ],
   "source": [
    "m = re.search(r'\\d+','1234')\n",
    "m.end(),m.start()"
   ]
  },
  {
   "cell_type": "code",
   "execution_count": 5,
   "id": "f440399b",
   "metadata": {},
   "outputs": [
    {
     "name": "stdout",
     "output_type": "stream",
     "text": [
      "<re.Match object; span=(0, 2), match='aa'>\n",
      "re.compile('aa')\n",
      "(0, 1)\n",
      "(1, 2)\n",
      "(4, 5)\n"
     ]
    }
   ],
   "source": [
    "S = 'aaadaa'\n",
    "k = 'aa'\n",
    "m = re.search(k, S)\n",
    "print(m)\n",
    "pattern = re.compile(k)\n",
    "print(pattern)\n",
    "if not m: print(\"(-1, -1)\")\n",
    "while m:\n",
    "    print(\"({0}, {1})\".format(m.start(),m.end()-1))\n",
    "    m = pattern.search(S,m.start()+1)"
   ]
  },
  {
   "cell_type": "code",
   "execution_count": 15,
   "id": "96bc2e9f",
   "metadata": {},
   "outputs": [
    {
     "name": "stdout",
     "output_type": "stream",
     "text": [
      "(0, 1)\n",
      "(1, 2)\n",
      "(4, 5)\n"
     ]
    }
   ],
   "source": [
    "s = 'aaadaa'\n",
    "v='aa'\n",
    "n = len(v) - 1\n",
    "for i,x in enumerate(s):\n",
    "    if re.match(v,s[i:]):\n",
    "        print((i,i+n))\n",
    "if re.search(v, s)==None:\n",
    "    print((-1,-1)) "
   ]
  },
  {
   "cell_type": "code",
   "execution_count": null,
   "id": "b882fdff",
   "metadata": {},
   "outputs": [],
   "source": []
  }
 ],
 "metadata": {
  "kernelspec": {
   "display_name": "Python 3 (ipykernel)",
   "language": "python",
   "name": "python3"
  },
  "language_info": {
   "codemirror_mode": {
    "name": "ipython",
    "version": 3
   },
   "file_extension": ".py",
   "mimetype": "text/x-python",
   "name": "python",
   "nbconvert_exporter": "python",
   "pygments_lexer": "ipython3",
   "version": "3.7.11"
  }
 },
 "nbformat": 4,
 "nbformat_minor": 5
}
