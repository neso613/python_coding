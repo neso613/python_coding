{
 "cells": [
  {
   "cell_type": "markdown",
   "id": "6479dfb7",
   "metadata": {},
   "source": [
    "Your task is to change it into a string such that there are no matching adjacent characters. To do this, you are allowed to delete zero or more characters in the string."
   ]
  },
  {
   "cell_type": "markdown",
   "id": "439f9edf",
   "metadata": {},
   "source": [
    "Example:\n",
    "    \n",
    "    AAA -> 2 deletion ( A AA)"
   ]
  },
  {
   "cell_type": "code",
   "execution_count": 32,
   "id": "9a8edc6e",
   "metadata": {},
   "outputs": [],
   "source": [
    "def alternatingCharacters(s):\n",
    "    count = 0\n",
    "    ini = s[0]\n",
    "    for i in range(1,len(s)):\n",
    "        char = s[i]\n",
    "        if ini != char:\n",
    "            ini = char\n",
    "        else:\n",
    "            count += 1\n",
    "    return count"
   ]
  },
  {
   "cell_type": "code",
   "execution_count": 33,
   "id": "9470e708",
   "metadata": {},
   "outputs": [
    {
     "data": {
      "text/plain": [
       "2"
      ]
     },
     "execution_count": 33,
     "metadata": {},
     "output_type": "execute_result"
    }
   ],
   "source": [
    "res = alternatingCharacters('AAA')\n",
    "res"
   ]
  },
  {
   "cell_type": "code",
   "execution_count": 34,
   "id": "6a057de7",
   "metadata": {},
   "outputs": [
    {
     "data": {
      "text/plain": [
       "0"
      ]
     },
     "execution_count": 34,
     "metadata": {},
     "output_type": "execute_result"
    }
   ],
   "source": [
    "res = alternatingCharacters('ABABAB')\n",
    "res"
   ]
  },
  {
   "cell_type": "code",
   "execution_count": 35,
   "id": "8d46dad5",
   "metadata": {},
   "outputs": [
    {
     "data": {
      "text/plain": [
       "0"
      ]
     },
     "execution_count": 35,
     "metadata": {},
     "output_type": "execute_result"
    }
   ],
   "source": [
    "res = alternatingCharacters('ABABABA')\n",
    "res"
   ]
  },
  {
   "cell_type": "code",
   "execution_count": null,
   "id": "5d95c1e0",
   "metadata": {},
   "outputs": [],
   "source": []
  }
 ],
 "metadata": {
  "kernelspec": {
   "display_name": "Python 3 (ipykernel)",
   "language": "python",
   "name": "python3"
  },
  "language_info": {
   "codemirror_mode": {
    "name": "ipython",
    "version": 3
   },
   "file_extension": ".py",
   "mimetype": "text/x-python",
   "name": "python",
   "nbconvert_exporter": "python",
   "pygments_lexer": "ipython3",
   "version": "3.7.11"
  }
 },
 "nbformat": 4,
 "nbformat_minor": 5
}
