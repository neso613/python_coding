{
 "cells": [
  {
   "cell_type": "markdown",
   "id": "8ef10c2c",
   "metadata": {},
   "source": [
    "Following are the criteria for checking the password:\n",
    "1. At least 1 letter between [a-z]\n",
    "2. At least 1 number between [0-9]\n",
    "1. At least 1 letter between [A-Z]\n",
    "3. At least 1 character from [$#@]\n",
    "4. Minimum length of transaction password: 6\n",
    "5. Maximum length of transaction password: 12\n",
    "\n",
    "\n",
    "\n",
    "\n",
    "Your program should accept a sequence of comma separated passwords and will check them according to the above criteria. Passwords that match the criteria are to be printed, each separated by a comma.\n",
    "Example\n",
    "If the following passwords are given as input to the program:\n",
    "ABd1234@1,a F1#,2w3E*,2We3345\n",
    "Then, the output of the program should be:\n",
    "ABd1234@1"
   ]
  },
  {
   "cell_type": "code",
   "execution_count": 40,
   "id": "1d2ae9e4",
   "metadata": {},
   "outputs": [],
   "source": [
    "import re\n",
    "def check_password(in_values):\n",
    "    value = []\n",
    "    for p in in_values:\n",
    "        if len(p)<6 or len(p)>12:\n",
    "            continue\n",
    "        else:\n",
    "            pass\n",
    "        if not re.search(\"[a-z]\",p):\n",
    "            continue\n",
    "        elif not re.search(\"[0-9]\",p):\n",
    "            continue\n",
    "        elif not re.search(\"[A-Z]\",p):\n",
    "            continue\n",
    "        elif not re.search(\"[$#@]\",p):\n",
    "            continue\n",
    "        elif re.search(\"\\s\",p):\n",
    "            continue\n",
    "        else:\n",
    "            pass\n",
    "        value.append(p)\n",
    "    return ','.join(value)"
   ]
  },
  {
   "cell_type": "code",
   "execution_count": 41,
   "id": "b7cb62dc",
   "metadata": {},
   "outputs": [
    {
     "name": "stdout",
     "output_type": "stream",
     "text": [
      "ABd2334@1,a F1#,2w3E*,2We3345,ABd2334@9\n"
     ]
    },
    {
     "data": {
      "text/plain": [
       "'ABd2334@1,ABd2334@9'"
      ]
     },
     "execution_count": 41,
     "metadata": {},
     "output_type": "execute_result"
    }
   ],
   "source": [
    "Inputs = input()\n",
    "in_values = []\n",
    "in_values = Inputs.split(',')\n",
    "check_password(in_values)"
   ]
  },
  {
   "cell_type": "code",
   "execution_count": null,
   "id": "fdcbdf83",
   "metadata": {},
   "outputs": [],
   "source": []
  }
 ],
 "metadata": {
  "kernelspec": {
   "display_name": "Python 3 (ipykernel)",
   "language": "python",
   "name": "python3"
  },
  "language_info": {
   "codemirror_mode": {
    "name": "ipython",
    "version": 3
   },
   "file_extension": ".py",
   "mimetype": "text/x-python",
   "name": "python",
   "nbconvert_exporter": "python",
   "pygments_lexer": "ipython3",
   "version": "3.7.11"
  }
 },
 "nbformat": 4,
 "nbformat_minor": 5
}
