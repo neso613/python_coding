{
 "cells": [
  {
   "cell_type": "markdown",
   "id": "c560d384",
   "metadata": {},
   "source": [
    "Two strings are anagrams of each other if the first string's letters can be rearranged to form the second string. In other words, both strings must contain the same exact letters in the same exact frequency. For example, bacdc and dcbac are anagrams, but bacdc and dcbad are not."
   ]
  },
  {
   "cell_type": "code",
   "execution_count": 2,
   "id": "1de77f00",
   "metadata": {},
   "outputs": [],
   "source": [
    "s1 = 'bacdc'\n",
    "s2 = 'dcbac'\n",
    "s3 = 'bacdc'\n",
    "s4 = 'dcbad'"
   ]
  },
  {
   "cell_type": "code",
   "execution_count": 17,
   "id": "d303cd82",
   "metadata": {},
   "outputs": [
    {
     "data": {
      "text/plain": [
       "['a', 'b', 'd', 'c', 'c']"
      ]
     },
     "execution_count": 17,
     "metadata": {},
     "output_type": "execute_result"
    }
   ],
   "source": [
    "x = sorted(s1)\n",
    "y = sorted(x,key = lambda c: x.count(c))\n",
    "y"
   ]
  },
  {
   "cell_type": "code",
   "execution_count": 18,
   "id": "b030262f",
   "metadata": {},
   "outputs": [
    {
     "data": {
      "text/plain": [
       "['a', 'b', 'd', 'c', 'c']"
      ]
     },
     "execution_count": 18,
     "metadata": {},
     "output_type": "execute_result"
    }
   ],
   "source": [
    "x = sorted(s2)\n",
    "y = sorted(x,key = lambda c: x.count(c))\n",
    "y"
   ]
  },
  {
   "cell_type": "code",
   "execution_count": 19,
   "id": "f8aa5eb4",
   "metadata": {},
   "outputs": [
    {
     "data": {
      "text/plain": [
       "['a', 'b', 'd', 'c', 'c']"
      ]
     },
     "execution_count": 19,
     "metadata": {},
     "output_type": "execute_result"
    }
   ],
   "source": [
    "x = sorted(s3)\n",
    "y = sorted(x,key = lambda c: x.count(c))\n",
    "y"
   ]
  },
  {
   "cell_type": "code",
   "execution_count": 20,
   "id": "3b394b9e",
   "metadata": {},
   "outputs": [
    {
     "data": {
      "text/plain": [
       "['a', 'b', 'c', 'd', 'd']"
      ]
     },
     "execution_count": 20,
     "metadata": {},
     "output_type": "execute_result"
    }
   ],
   "source": [
    "x = sorted(s4)\n",
    "y = sorted(x,key = lambda c: x.count(c))\n",
    "y"
   ]
  },
  {
   "cell_type": "code",
   "execution_count": 30,
   "id": "62df0ab7",
   "metadata": {},
   "outputs": [],
   "source": [
    "def check_anagram(string1,string2):\n",
    "    x = sorted(string1)\n",
    "    y = sorted(string2)\n",
    "    res1 = sorted(x,key = lambda c: x.count(c))\n",
    "    res2 = sorted(y,key = lambda c: y.count(c))\n",
    "   \n",
    "    for i,j in zip(res1,res2):\n",
    "        if i==j:\n",
    "            continue\n",
    "        else:\n",
    "            return \"not anagram\"\n",
    "    return \"anagram\"\n"
   ]
  },
  {
   "cell_type": "code",
   "execution_count": 31,
   "id": "797f6329",
   "metadata": {},
   "outputs": [
    {
     "data": {
      "text/plain": [
       "('anagram', 'not anagram')"
      ]
     },
     "execution_count": 31,
     "metadata": {},
     "output_type": "execute_result"
    }
   ],
   "source": [
    "check_anagram(s1,s2), check_anagram(s3,s4)"
   ]
  },
  {
   "cell_type": "code",
   "execution_count": null,
   "id": "8d7a762f",
   "metadata": {},
   "outputs": [],
   "source": []
  }
 ],
 "metadata": {
  "kernelspec": {
   "display_name": "Python 3 (ipykernel)",
   "language": "python",
   "name": "python3"
  },
  "language_info": {
   "codemirror_mode": {
    "name": "ipython",
    "version": 3
   },
   "file_extension": ".py",
   "mimetype": "text/x-python",
   "name": "python",
   "nbconvert_exporter": "python",
   "pygments_lexer": "ipython3",
   "version": "3.7.11"
  }
 },
 "nbformat": 4,
 "nbformat_minor": 5
}
