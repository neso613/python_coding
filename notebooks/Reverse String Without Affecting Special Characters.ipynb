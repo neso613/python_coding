{
 "cells": [
  {
   "cell_type": "code",
   "execution_count": 133,
   "id": "4dba7ba0",
   "metadata": {},
   "outputs": [],
   "source": [
    "Input = 'abc/defgh$ij'\n",
    "ExpectedOutput = 'jih/gfedc$ba'"
   ]
  },
  {
   "cell_type": "code",
   "execution_count": 134,
   "id": "4ebffca8",
   "metadata": {},
   "outputs": [
    {
     "name": "stdout",
     "output_type": "stream",
     "text": [
      "Try another logic\n"
     ]
    }
   ],
   "source": [
    "if Input[::-1] == ExpectedOutput:\n",
    "    print(\"Done\")\n",
    "else:\n",
    "    print(\"Try another logic\")"
   ]
  },
  {
   "cell_type": "code",
   "execution_count": 164,
   "id": "4809d39a",
   "metadata": {},
   "outputs": [
    {
     "name": "stdout",
     "output_type": "stream",
     "text": [
      "Done\n"
     ]
    }
   ],
   "source": [
    "i = 0\n",
    "j = len(lis)-1\n",
    "while i < j:\n",
    "    if not lis[i].isalpha(): # that mean, its special character\n",
    "        i = i+1\n",
    "    elif not lis[j].isalpha():\n",
    "        j = j-1\n",
    "    else:\n",
    "        lis[i],lis[j] = lis[j],lis[i]\n",
    "        i=i+1\n",
    "        j=j-1\n",
    "Output = ''.join(lis)\n",
    "if Output == ExpectedOutput:\n",
    "    print(\"Done\")\n",
    "else:\n",
    "    print(\"Try another logic\")"
   ]
  },
  {
   "cell_type": "code",
   "execution_count": null,
   "id": "d9240b2b",
   "metadata": {},
   "outputs": [],
   "source": []
  }
 ],
 "metadata": {
  "kernelspec": {
   "display_name": "Python 3 (ipykernel)",
   "language": "python",
   "name": "python3"
  },
  "language_info": {
   "codemirror_mode": {
    "name": "ipython",
    "version": 3
   },
   "file_extension": ".py",
   "mimetype": "text/x-python",
   "name": "python",
   "nbconvert_exporter": "python",
   "pygments_lexer": "ipython3",
   "version": "3.7.11"
  }
 },
 "nbformat": 4,
 "nbformat_minor": 5
}
