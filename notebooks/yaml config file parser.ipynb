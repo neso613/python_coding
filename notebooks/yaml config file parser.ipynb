{
 "cells": [
  {
   "cell_type": "code",
   "execution_count": 1,
   "id": "31448b3f",
   "metadata": {},
   "outputs": [],
   "source": [
    "import yamlargparse"
   ]
  },
  {
   "cell_type": "code",
   "execution_count": 6,
   "id": "23807315",
   "metadata": {},
   "outputs": [],
   "source": [
    "def config():\n",
    "    myargs = {\n",
    "    'name':'Neha',\n",
    "    'height':'153'\n",
    "    }\n",
    "    parser = yamlargparse.ArgumentParser(description='decoding')\n",
    "    parser.add_argument('-c', '--config', help='config file path',action=yamlargparse.ActionConfigFile,\n",
    "                        default=myargs)\n",
    "    args = parser.parse_args()\n",
    "    print(args)\n"
   ]
  },
  {
   "cell_type": "code",
   "execution_count": null,
   "id": "6686300f",
   "metadata": {},
   "outputs": [],
   "source": []
  }
 ],
 "metadata": {
  "kernelspec": {
   "display_name": "Python 3 (ipykernel)",
   "language": "python",
   "name": "python3"
  },
  "language_info": {
   "codemirror_mode": {
    "name": "ipython",
    "version": 3
   },
   "file_extension": ".py",
   "mimetype": "text/x-python",
   "name": "python",
   "nbconvert_exporter": "python",
   "pygments_lexer": "ipython3",
   "version": "3.7.11"
  }
 },
 "nbformat": 4,
 "nbformat_minor": 5
}
