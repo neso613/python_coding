{
 "cells": [
  {
   "cell_type": "markdown",
   "id": "213b195d",
   "metadata": {},
   "source": [
    "A string is said to be a special string if either of two conditions is met:\n",
    "\n",
    "All of the characters are the same, e.g. aaa.\n",
    "All characters except the middle one are the same, e.g. aadaa.\n",
    "A special substring is any substring of a string which meets one of those criteria. Given a string, determine how many special substrings can be formed from it."
   ]
  },
  {
   "cell_type": "code",
   "execution_count": 42,
   "id": "1a74b784",
   "metadata": {},
   "outputs": [],
   "source": [
    "def specialChar(s):\n",
    "    res = list(s)\n",
    "    for i in range(len(s)):\n",
    "        for j in range(i+1,len(s)):\n",
    "            if s[i] == s[j]:\n",
    "                res.append(s[i]+s[i:j])\n",
    "    print(res,len(res))\n",
    "        \n",
    "\n"
   ]
  },
  {
   "cell_type": "code",
   "execution_count": 46,
   "id": "95c97ad6",
   "metadata": {},
   "outputs": [
    {
     "name": "stdout",
     "output_type": "stream",
     "text": [
      "['a', 'b', 'c', 'b', 'a', 'b', 'a', 'aabcb', 'aabcbab', 'bbc', 'bbcba', 'bba', 'aab'] 13\n",
      "['a', 'a', 'a', 'a', 'aa', 'aaa', 'aaaa', 'aa', 'aaa', 'aa'] 10\n",
      "['a', 's', 'a', 's', 'd', 'aas', 'ssa'] 7\n",
      "['m', 'n', 'o', 'n', 'o', 'p', 'o', 'o', 'nno', 'oon', 'oonop', 'oonopo', 'oop', 'oopo', 'oo'] 15\n"
     ]
    }
   ],
   "source": [
    "s =  specialChar(\"abcbaba\")\n",
    "s =  specialChar(\"aaaa\")\n",
    "s =  specialChar(\"asasd\")\n",
    "s =  specialChar(\"mnonopoo\")"
   ]
  },
  {
   "cell_type": "code",
   "execution_count": null,
   "id": "89c956b4",
   "metadata": {},
   "outputs": [],
   "source": []
  },
  {
   "cell_type": "code",
   "execution_count": null,
   "id": "e3ad456b",
   "metadata": {},
   "outputs": [],
   "source": []
  },
  {
   "cell_type": "code",
   "execution_count": null,
   "id": "75e98b22",
   "metadata": {},
   "outputs": [],
   "source": []
  },
  {
   "cell_type": "code",
   "execution_count": null,
   "id": "5be04ed5",
   "metadata": {},
   "outputs": [],
   "source": []
  }
 ],
 "metadata": {
  "kernelspec": {
   "display_name": "Python 3 (ipykernel)",
   "language": "python",
   "name": "python3"
  },
  "language_info": {
   "codemirror_mode": {
    "name": "ipython",
    "version": 3
   },
   "file_extension": ".py",
   "mimetype": "text/x-python",
   "name": "python",
   "nbconvert_exporter": "python",
   "pygments_lexer": "ipython3",
   "version": "3.7.11"
  }
 },
 "nbformat": 4,
 "nbformat_minor": 5
}
