{
 "cells": [
  {
   "cell_type": "code",
   "execution_count": 16,
   "id": "56a13ba2",
   "metadata": {},
   "outputs": [
    {
     "name": "stdout",
     "output_type": "stream",
     "text": [
      "0100,0011,1010,1001\n"
     ]
    },
    {
     "data": {
      "text/plain": [
       "['0100', '0011', '1010', '1001']"
      ]
     },
     "execution_count": 16,
     "metadata": {},
     "output_type": "execute_result"
    }
   ],
   "source": [
    "seq = input()\n",
    "seq = seq.split(',')\n",
    "seq"
   ]
  },
  {
   "cell_type": "code",
   "execution_count": 17,
   "id": "d389fbfd",
   "metadata": {},
   "outputs": [],
   "source": [
    "def check(seq):\n",
    "    lis = []\n",
    "    n_lis = []\n",
    "    for i in seq:\n",
    "        val = int(i,2)\n",
    "        #print(val)\n",
    "        if val % 5 == 0:\n",
    "             lis.append(i)\n",
    "        else:\n",
    "            n_lis.append(i)\n",
    "    divisible = \"Divisible by 5 :{}\".format(\",\".join(lis))\n",
    "    ndivisible = \"Not Divisible by 5 :{}\".format(\",\".join(n_lis))\n",
    "    return divisible,ndivisible"
   ]
  },
  {
   "cell_type": "code",
   "execution_count": 18,
   "id": "ec2fdd98",
   "metadata": {},
   "outputs": [
    {
     "name": "stdout",
     "output_type": "stream",
     "text": [
      "('Divisible by 5 :1010', 'Not Divisible by 5 :0100,0011,1001')\n"
     ]
    }
   ],
   "source": [
    "print(check(seq))"
   ]
  },
  {
   "cell_type": "code",
   "execution_count": null,
   "id": "9ef26528",
   "metadata": {},
   "outputs": [],
   "source": []
  }
 ],
 "metadata": {
  "kernelspec": {
   "display_name": "Python 3 (ipykernel)",
   "language": "python",
   "name": "python3"
  },
  "language_info": {
   "codemirror_mode": {
    "name": "ipython",
    "version": 3
   },
   "file_extension": ".py",
   "mimetype": "text/x-python",
   "name": "python",
   "nbconvert_exporter": "python",
   "pygments_lexer": "ipython3",
   "version": "3.7.11"
  }
 },
 "nbformat": 4,
 "nbformat_minor": 5
}
