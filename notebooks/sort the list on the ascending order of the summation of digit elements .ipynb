{
 "cells": [
  {
   "cell_type": "code",
   "execution_count": 39,
   "id": "d53911ab",
   "metadata": {},
   "outputs": [
    {
     "name": "stdout",
     "output_type": "stream",
     "text": [
      "The original list is : [23, 87, 11, 55]\n",
      "The unit sorted list : [11, 23, 55, 87]\n"
     ]
    }
   ],
   "source": [
    "def unit_sort(ele):\n",
    "    return int(str(ele)[0]) + int(str(ele)[1])\n",
    "\n",
    "test_list = [23,87,11,55]\n",
    "print(\"The original list is : \" + str(test_list))\n",
    "\n",
    "test_list.sort(key=unit_sort)\n",
    "print(\"The unit sorted list : \" + str(test_list))"
   ]
  },
  {
   "cell_type": "code",
   "execution_count": null,
   "id": "1e27cbde",
   "metadata": {},
   "outputs": [],
   "source": []
  }
 ],
 "metadata": {
  "kernelspec": {
   "display_name": "Python 3 (ipykernel)",
   "language": "python",
   "name": "python3"
  },
  "language_info": {
   "codemirror_mode": {
    "name": "ipython",
    "version": 3
   },
   "file_extension": ".py",
   "mimetype": "text/x-python",
   "name": "python",
   "nbconvert_exporter": "python",
   "pygments_lexer": "ipython3",
   "version": "3.7.11"
  }
 },
 "nbformat": 4,
 "nbformat_minor": 5
}
