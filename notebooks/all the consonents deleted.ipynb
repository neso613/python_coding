{
 "cells": [
  {
   "cell_type": "code",
   "execution_count": 1,
   "id": "aceeaeab",
   "metadata": {},
   "outputs": [],
   "source": [
    "#Write a program to make a new string with all the consonents deleted from the string \"Hello, have a good day\"."
   ]
  },
  {
   "cell_type": "code",
   "execution_count": 2,
   "id": "9a8ee36a",
   "metadata": {},
   "outputs": [],
   "source": [
    "s = \"Hello, have a good day\""
   ]
  },
  {
   "cell_type": "code",
   "execution_count": 6,
   "id": "46ebbb7f",
   "metadata": {},
   "outputs": [],
   "source": [
    "vowels = ['a','e','i','o','u',\"A\",\"I\",\"E\",\"O\",\"U\"]"
   ]
  },
  {
   "cell_type": "code",
   "execution_count": 13,
   "id": "63b7917b",
   "metadata": {},
   "outputs": [
    {
     "name": "stdout",
     "output_type": "stream",
     "text": [
      "eoaeaooa\n"
     ]
    }
   ],
   "source": [
    "new = []\n",
    "for i in s:\n",
    "    if i in vowels:\n",
    "        new.append(i)\n",
    "print(*new,sep='')"
   ]
  },
  {
   "cell_type": "code",
   "execution_count": 14,
   "id": "8947528a",
   "metadata": {},
   "outputs": [
    {
     "data": {
      "text/plain": [
       "'yad doog a evah ,olleH'"
      ]
     },
     "execution_count": 14,
     "metadata": {},
     "output_type": "execute_result"
    }
   ],
   "source": [
    "s[::-1]"
   ]
  },
  {
   "cell_type": "code",
   "execution_count": null,
   "id": "3712567d",
   "metadata": {},
   "outputs": [],
   "source": []
  }
 ],
 "metadata": {
  "kernelspec": {
   "display_name": "Python 3 (ipykernel)",
   "language": "python",
   "name": "python3"
  },
  "language_info": {
   "codemirror_mode": {
    "name": "ipython",
    "version": 3
   },
   "file_extension": ".py",
   "mimetype": "text/x-python",
   "name": "python",
   "nbconvert_exporter": "python",
   "pygments_lexer": "ipython3",
   "version": "3.7.11"
  }
 },
 "nbformat": 4,
 "nbformat_minor": 5
}
