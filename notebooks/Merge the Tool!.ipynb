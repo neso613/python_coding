{
 "cells": [
  {
   "cell_type": "code",
   "execution_count": 56,
   "id": "dc1f7975",
   "metadata": {},
   "outputs": [],
   "source": [
    "def mergeTheTool(s,k):\n",
    "    n = len(s)\n",
    "    subString_length = int(n/k)\n",
    "    subStr = [s[i:i+subString_length] for i in range(0,len(s),subString_length)]\n",
    "    for i in subStr:\n",
    "        print(\"\".join(dict.fromkeys(i)))\n",
    "        "
   ]
  },
  {
   "cell_type": "code",
   "execution_count": 63,
   "id": "daedb550",
   "metadata": {},
   "outputs": [],
   "source": [
    "def merge_the_tools(string, k):\n",
    "    for i in range(0, len(string), k):\n",
    "        uniq = ''\n",
    "        for c in string[i : i+k]:\n",
    "            print(c,\"..\")\n",
    "            if (c not in uniq):\n",
    "                uniq+=c\n",
    "        print(uniq)"
   ]
  },
  {
   "cell_type": "code",
   "execution_count": 64,
   "id": "d66f6be0",
   "metadata": {},
   "outputs": [
    {
     "name": "stdout",
     "output_type": "stream",
     "text": [
      "AB\n",
      "CA\n",
      "AD\n"
     ]
    }
   ],
   "source": [
    "mergeTheTool(\"AABCAAADA\",3)\n"
   ]
  },
  {
   "cell_type": "code",
   "execution_count": 65,
   "id": "54eab042",
   "metadata": {},
   "outputs": [
    {
     "name": "stdout",
     "output_type": "stream",
     "text": [
      "A ..\n",
      "A ..\n",
      "B ..\n",
      "AB\n",
      "C ..\n",
      "A ..\n",
      "A ..\n",
      "CA\n",
      "A ..\n",
      "D ..\n",
      "A ..\n",
      "AD\n"
     ]
    }
   ],
   "source": [
    "merge_the_tools(\"AABCAAADA\",3)"
   ]
  },
  {
   "cell_type": "code",
   "execution_count": null,
   "id": "ed5add5a",
   "metadata": {},
   "outputs": [],
   "source": []
  }
 ],
 "metadata": {
  "kernelspec": {
   "display_name": "Python 3 (ipykernel)",
   "language": "python",
   "name": "python3"
  },
  "language_info": {
   "codemirror_mode": {
    "name": "ipython",
    "version": 3
   },
   "file_extension": ".py",
   "mimetype": "text/x-python",
   "name": "python",
   "nbconvert_exporter": "python",
   "pygments_lexer": "ipython3",
   "version": "3.7.11"
  }
 },
 "nbformat": 4,
 "nbformat_minor": 5
}
