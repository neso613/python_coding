{
 "cells": [
  {
   "cell_type": "code",
   "execution_count": 54,
   "id": "25de5a1b",
   "metadata": {},
   "outputs": [],
   "source": [
    "def mergeTheTool(s,k):\n",
    "    n = len(s)\n",
    "    subString_length = int(n/k)\n",
    "    subStr = [s[i:i+subString_length] for i in range(0,len(s),subString_length)]\n",
    "    for i in subStr:\n",
    "        print(\"\".join(dict.fromkeys(i)))\n",
    "        "
   ]
  },
  {
   "cell_type": "code",
   "execution_count": 55,
   "id": "82a8d28c",
   "metadata": {},
   "outputs": [
    {
     "name": "stdout",
     "output_type": "stream",
     "text": [
      "AB\n",
      "CA\n",
      "AD\n"
     ]
    }
   ],
   "source": [
    "mergeTheTool(\"AABCAAADA\",3)"
   ]
  },
  {
   "cell_type": "code",
   "execution_count": null,
   "id": "6c73fe61",
   "metadata": {},
   "outputs": [],
   "source": []
  }
 ],
 "metadata": {
  "kernelspec": {
   "display_name": "Python 3 (ipykernel)",
   "language": "python",
   "name": "python3"
  },
  "language_info": {
   "codemirror_mode": {
    "name": "ipython",
    "version": 3
   },
   "file_extension": ".py",
   "mimetype": "text/x-python",
   "name": "python",
   "nbconvert_exporter": "python",
   "pygments_lexer": "ipython3",
   "version": "3.7.11"
  }
 },
 "nbformat": 4,
 "nbformat_minor": 5
}
