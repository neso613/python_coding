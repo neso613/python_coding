{
 "cells": [
  {
   "cell_type": "code",
   "execution_count": 1,
   "id": "cd8b7dfb",
   "metadata": {},
   "outputs": [
    {
     "name": "stdout",
     "output_type": "stream",
     "text": [
      "7 21\n"
     ]
    }
   ],
   "source": [
    "N,M = 7,21\n",
    "print(N,M)"
   ]
  },
  {
   "cell_type": "code",
   "execution_count": 5,
   "id": "d98e2314",
   "metadata": {},
   "outputs": [
    {
     "name": "stdout",
     "output_type": "stream",
     "text": [
      "---------.|.---------\n",
      "------.|..|..|.------\n",
      "---.|..|..|..|..|.---\n",
      "-------WELCOME-------\n",
      "---.|..|..|..|..|.---\n",
      "------.|..|..|.------\n",
      "---------.|.---------\n"
     ]
    }
   ],
   "source": [
    "for i in range(1,N,2): \n",
    "    print((i * \".|.\").center(M, \"-\"))\n",
    "print(\"WELCOME\".center(M,\"-\"))\n",
    "for i in range(N-2,-1,-2): \n",
    "    print((i * \".|.\").center(M, \"-\"))"
   ]
  },
  {
   "cell_type": "code",
   "execution_count": 12,
   "id": "91ff1de7",
   "metadata": {},
   "outputs": [
    {
     "name": "stdout",
     "output_type": "stream",
     "text": [
      "['---------.|.---------', '------.|..|..|.------', '---.|..|..|..|..|.---']\n",
      "---------.|.---------\n",
      "------.|..|..|.------\n",
      "---.|..|..|..|..|.---\n",
      "-------WELCOME-------\n",
      "---.|..|..|..|..|.---\n",
      "------.|..|..|.------\n",
      "---------.|.---------\n"
     ]
    }
   ],
   "source": [
    "pattern = [('.|.'*(2*i + 1)).center(M, '-') for i in range(N//2)]\n",
    "print(pattern)\n",
    "print('\\n'.join(pattern + ['WELCOME'.center(M, '-')] + pattern[::-1]))"
   ]
  },
  {
   "cell_type": "code",
   "execution_count": 7,
   "id": "f1a4513c",
   "metadata": {},
   "outputs": [
    {
     "name": "stdout",
     "output_type": "stream",
     "text": [
      "  HELLO  \n",
      "--HELLO--\n",
      "......BYE......\n",
      ".|..|..|.\n"
     ]
    }
   ],
   "source": [
    "# Prints \"  HELLO  \". Width = 9, fills string with spaces by default.\n",
    "print(\"HELLO\".center(9))\n",
    "\n",
    "# Prints \"--HELLO--\". \n",
    "print(\"HELLO\".center(9, \"-\"))\n",
    "\n",
    "# Prints \".....BYE.....\". Width = 15, fills string with \".\"\n",
    "print(\"BYE\".center(15, \".\"))\n",
    "\n",
    "print(3*\".|.\")"
   ]
  },
  {
   "cell_type": "code",
   "execution_count": null,
   "id": "1c45a08e",
   "metadata": {},
   "outputs": [],
   "source": []
  }
 ],
 "metadata": {
  "kernelspec": {
   "display_name": "Python 3 (ipykernel)",
   "language": "python",
   "name": "python3"
  },
  "language_info": {
   "codemirror_mode": {
    "name": "ipython",
    "version": 3
   },
   "file_extension": ".py",
   "mimetype": "text/x-python",
   "name": "python",
   "nbconvert_exporter": "python",
   "pygments_lexer": "ipython3",
   "version": "3.7.11"
  }
 },
 "nbformat": 4,
 "nbformat_minor": 5
}
