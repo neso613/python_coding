{
 "cells": [
  {
   "cell_type": "code",
   "execution_count": 154,
   "id": "484ceae8",
   "metadata": {},
   "outputs": [],
   "source": [
    "s1 = 'fcrxzwscanmligyxyvym'\n",
    "s2 = 'jxwtrhvujlmrpdoqbisbwhmgpmeoke'\n",
    "s3 = 'cde'\n",
    "s4 = 'abcc'\n",
    "str1 = \"bcadeh\" \n",
    "str2 = \"hea\""
   ]
  },
  {
   "cell_type": "code",
   "execution_count": 155,
   "id": "aeca6996",
   "metadata": {},
   "outputs": [],
   "source": [
    "def make_anagram(s1,s2):\n",
    "    x,y = sorted(s1),sorted(s2)\n",
    "    li_dif = [i for i in x + y if i not in x or i not in y]\n",
    "    set_x,set_y = set(x),set(y)\n",
    "    res = list(set_x.intersection(set_y))\n",
    "    common_count = 0\n",
    "    for i in res:\n",
    "        common_count += abs(s1.count(i) - s2.count(i))\n",
    "    return len(li_dif) + common_count"
   ]
  },
  {
   "cell_type": "code",
   "execution_count": 156,
   "id": "e2871281",
   "metadata": {},
   "outputs": [
    {
     "data": {
      "text/plain": [
       "30"
      ]
     },
     "execution_count": 156,
     "metadata": {},
     "output_type": "execute_result"
    }
   ],
   "source": [
    "res = make_anagram(s1,s2)\n",
    "res"
   ]
  },
  {
   "cell_type": "code",
   "execution_count": 157,
   "id": "f7715f74",
   "metadata": {},
   "outputs": [
    {
     "data": {
      "text/plain": [
       "5"
      ]
     },
     "execution_count": 157,
     "metadata": {},
     "output_type": "execute_result"
    }
   ],
   "source": [
    "res = make_anagram(s3,s4)\n",
    "res"
   ]
  },
  {
   "cell_type": "code",
   "execution_count": 158,
   "id": "a52046f4",
   "metadata": {},
   "outputs": [
    {
     "data": {
      "text/plain": [
       "3"
      ]
     },
     "execution_count": 158,
     "metadata": {},
     "output_type": "execute_result"
    }
   ],
   "source": [
    "res = make_anagram(str1,str2)\n",
    "res"
   ]
  }
 ],
 "metadata": {},
 "nbformat": 4,
 "nbformat_minor": 5
}
