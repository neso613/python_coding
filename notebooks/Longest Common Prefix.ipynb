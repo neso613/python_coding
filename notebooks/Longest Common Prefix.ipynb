{
 "cells": [
  {
   "cell_type": "code",
   "execution_count": 4,
   "id": "f31c5ff2",
   "metadata": {},
   "outputs": [
    {
     "name": "stdout",
     "output_type": "stream",
     "text": [
      "The longest common prefix is - gee\n"
     ]
    }
   ],
   "source": [
    "def findMinLength(strList):\n",
    "    return len(min(arr, key = len))\n",
    "\n",
    "def allContainsPrefix(strList, str,start, end):\n",
    "    for i in range(0, len(strList)):\n",
    "        word = strList[i]\n",
    "        for j in range(start, end + 1):\n",
    "            if word[j] != str[j]:\n",
    "                return False\n",
    "    return True\n",
    "\n",
    "def CommonPrefix(strList):\n",
    "    index = findMinLength(strList)\n",
    "    prefix = \"\"\n",
    "    low, high = 0, index - 1\n",
    "    while low <= high:\n",
    "        mid = int(low + (high - low) / 2)\n",
    "        if allContainsPrefix(strList,strList[0], low, mid):\n",
    "            prefix = prefix + strList[0][low:mid + 1]\n",
    "            low = mid + 1\n",
    "        else:\n",
    "            high = mid - 1\n",
    "    return prefix\n",
    "\n",
    "# Driver Code\n",
    "arr = [\"geeksforgeeks\", \"geeks\",\"geek\", \"geezer\"]\n",
    "lcp = CommonPrefix(arr)\n",
    "\n",
    "if len(lcp) > 0:\n",
    "    print (\"The longest common prefix is -> \" +str(lcp))\n",
    "else:\n",
    "    print (\"There is no common prefix\")\n"
   ]
  },
  {
   "cell_type": "code",
   "execution_count": 11,
   "id": "ddc06b09",
   "metadata": {},
   "outputs": [
    {
     "data": {
      "text/plain": [
       "'gy'"
      ]
     },
     "execution_count": 11,
     "metadata": {},
     "output_type": "execute_result"
    }
   ],
   "source": [
    "arr = [\"geeksforgeeks\", \"geeks\",\"geek\", \"geezer\",\"gy\"]\n",
    "#len(min(arr, key = len))\n",
    "min(arr, key = len)"
   ]
  },
  {
   "cell_type": "code",
   "execution_count": null,
   "id": "d42f8872",
   "metadata": {},
   "outputs": [],
   "source": []
  }
 ],
 "metadata": {
  "kernelspec": {
   "display_name": "Python 3 (ipykernel)",
   "language": "python",
   "name": "python3"
  },
  "language_info": {
   "codemirror_mode": {
    "name": "ipython",
    "version": 3
   },
   "file_extension": ".py",
   "mimetype": "text/x-python",
   "name": "python",
   "nbconvert_exporter": "python",
   "pygments_lexer": "ipython3",
   "version": "3.7.11"
  }
 },
 "nbformat": 4,
 "nbformat_minor": 5
}
