{
 "cells": [
  {
   "cell_type": "code",
   "execution_count": 1,
   "id": "4402c01f",
   "metadata": {},
   "outputs": [],
   "source": [
    "n = 6"
   ]
  },
  {
   "cell_type": "code",
   "execution_count": 2,
   "id": "6749649b",
   "metadata": {},
   "outputs": [],
   "source": [
    "# 1,2,3 are multpiles of 6 whose sum is 6."
   ]
  },
  {
   "cell_type": "code",
   "execution_count": 3,
   "id": "d7b5f004",
   "metadata": {},
   "outputs": [
    {
     "name": "stdout",
     "output_type": "stream",
     "text": [
      "Given number 6 is perfect number.i.e.True\n"
     ]
    }
   ],
   "source": [
    "sum = 0\n",
    "for i in range(1,(n//2)+1):\n",
    "    rem = n%i\n",
    "    if rem == 0:\n",
    "        sum = sum+i\n",
    "if sum==n:\n",
    "    print(\"Given number {} is a perfect number.i.e.{}\".format(n,True))\n",
    "else:\n",
    "    print(\"Given number {} is not a perfect number.i.e.{}\".format(n,False))"
   ]
  },
  {
   "cell_type": "code",
   "execution_count": null,
   "id": "5a6eb22f",
   "metadata": {},
   "outputs": [],
   "source": []
  }
 ],
 "metadata": {
  "kernelspec": {
   "display_name": "Python 3 (ipykernel)",
   "language": "python",
   "name": "python3"
  },
  "language_info": {
   "codemirror_mode": {
    "name": "ipython",
    "version": 3
   },
   "file_extension": ".py",
   "mimetype": "text/x-python",
   "name": "python",
   "nbconvert_exporter": "python",
   "pygments_lexer": "ipython3",
   "version": "3.7.11"
  }
 },
 "nbformat": 4,
 "nbformat_minor": 5
}
