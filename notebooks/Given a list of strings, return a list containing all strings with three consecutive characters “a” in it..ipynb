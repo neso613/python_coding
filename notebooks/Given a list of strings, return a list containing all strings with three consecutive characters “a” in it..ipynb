{
 "cells": [
  {
   "cell_type": "code",
   "execution_count": 1,
   "id": "767a60e2",
   "metadata": {},
   "outputs": [
    {
     "name": "stdout",
     "output_type": "stream",
     "text": [
      "['aabbaaac', 'baaab']\n"
     ]
    }
   ],
   "source": [
    "def check(s):\n",
    "    return \"aaa\" in s\n",
    "\n",
    "user_list = [\"asfdc\", \"aabbaaac\", \"cdfdccc\", \"baaab\", \"baab\"]\n",
    "\n",
    "filtered_list = filter(check, user_list)\n",
    "print(list(filtered_list))"
   ]
  },
  {
   "cell_type": "code",
   "execution_count": null,
   "id": "94fba4e6",
   "metadata": {},
   "outputs": [],
   "source": []
  }
 ],
 "metadata": {
  "kernelspec": {
   "display_name": "Python 3 (ipykernel)",
   "language": "python",
   "name": "python3"
  },
  "language_info": {
   "codemirror_mode": {
    "name": "ipython",
    "version": 3
   },
   "file_extension": ".py",
   "mimetype": "text/x-python",
   "name": "python",
   "nbconvert_exporter": "python",
   "pygments_lexer": "ipython3",
   "version": "3.7.11"
  }
 },
 "nbformat": 4,
 "nbformat_minor": 5
}
