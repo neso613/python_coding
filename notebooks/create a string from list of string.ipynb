{
 "cells": [
  {
   "cell_type": "code",
   "execution_count": 1,
   "id": "2beec7a3",
   "metadata": {},
   "outputs": [],
   "source": [
    "list1 = ['I','like','to','play','cricket']\n"
   ]
  },
  {
   "cell_type": "code",
   "execution_count": 2,
   "id": "1ee69b77",
   "metadata": {},
   "outputs": [
    {
     "data": {
      "text/plain": [
       "['I', 'like', 'to', 'play', 'cricket']"
      ]
     },
     "execution_count": 2,
     "metadata": {},
     "output_type": "execute_result"
    }
   ],
   "source": [
    "list1"
   ]
  },
  {
   "cell_type": "code",
   "execution_count": 3,
   "id": "60510bc1",
   "metadata": {},
   "outputs": [
    {
     "data": {
      "text/plain": [
       "'I like to play cricket'"
      ]
     },
     "execution_count": 3,
     "metadata": {},
     "output_type": "execute_result"
    }
   ],
   "source": [
    "' '.join(list1)"
   ]
  },
  {
   "cell_type": "code",
   "execution_count": 4,
   "id": "3385dfcf",
   "metadata": {},
   "outputs": [
    {
     "data": {
      "text/plain": [
       "'Iliketoplaycricket'"
      ]
     },
     "execution_count": 4,
     "metadata": {},
     "output_type": "execute_result"
    }
   ],
   "source": [
    "''.join(list1)"
   ]
  },
  {
   "cell_type": "code",
   "execution_count": 5,
   "id": "bae0d291",
   "metadata": {},
   "outputs": [
    {
     "data": {
      "text/plain": [
       "'I_like_to_play_cricket'"
      ]
     },
     "execution_count": 5,
     "metadata": {},
     "output_type": "execute_result"
    }
   ],
   "source": [
    "'_'.join(list1)"
   ]
  },
  {
   "cell_type": "code",
   "execution_count": null,
   "id": "aa6d69a3",
   "metadata": {},
   "outputs": [],
   "source": []
  }
 ],
 "metadata": {
  "kernelspec": {
   "display_name": "Python 3 (ipykernel)",
   "language": "python",
   "name": "python3"
  },
  "language_info": {
   "codemirror_mode": {
    "name": "ipython",
    "version": 3
   },
   "file_extension": ".py",
   "mimetype": "text/x-python",
   "name": "python",
   "nbconvert_exporter": "python",
   "pygments_lexer": "ipython3",
   "version": "3.7.11"
  }
 },
 "nbformat": 4,
 "nbformat_minor": 5
}
