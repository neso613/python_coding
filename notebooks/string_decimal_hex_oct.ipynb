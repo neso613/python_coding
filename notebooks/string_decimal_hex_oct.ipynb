{
 "cells": [
  {
   "cell_type": "code",
   "execution_count": 1,
   "id": "b553fca5",
   "metadata": {},
   "outputs": [
    {
     "name": "stdout",
     "output_type": "stream",
     "text": [
      "17\n",
      "    1     1     1     1\n",
      "    2     2     2    10\n",
      "    3     3     3    11\n",
      "    4     4     4   100\n",
      "    5     5     5   101\n",
      "    6     6     6   110\n",
      "    7     7     7   111\n",
      "    8    10     8  1000\n",
      "    9    11     9  1001\n",
      "   10    12     A  1010\n",
      "   11    13     B  1011\n",
      "   12    14     C  1100\n",
      "   13    15     D  1101\n",
      "   14    16     E  1110\n",
      "   15    17     F  1111\n",
      "   16    20    10 10000\n",
      "   17    21    11 10001\n"
     ]
    }
   ],
   "source": [
    "n = int(input())\n",
    "\n",
    "results = []\n",
    "\n",
    "for i in range(1, n+1):\n",
    "    decimal = str(i)\n",
    "    octal = str(oct(i)[2:])\n",
    "    hex_ = str(hex(i)[2:]).upper()\n",
    "    binary = str(bin(i)[2:])\n",
    "\n",
    "    results.append([decimal, octal, hex_, binary])\n",
    "\n",
    "width = len(results[-1][3])  # largest binary number\n",
    "\n",
    "for i in results:\n",
    "    print(*(rep.rjust(width) for rep in i))"
   ]
  },
  {
   "cell_type": "code",
   "execution_count": 2,
   "id": "26fa6a6c",
   "metadata": {},
   "outputs": [
    {
     "data": {
      "text/plain": [
       "[['1', '1', '1', '1'],\n",
       " ['2', '2', '2', '10'],\n",
       " ['3', '3', '3', '11'],\n",
       " ['4', '4', '4', '100'],\n",
       " ['5', '5', '5', '101'],\n",
       " ['6', '6', '6', '110'],\n",
       " ['7', '7', '7', '111'],\n",
       " ['8', '10', '8', '1000'],\n",
       " ['9', '11', '9', '1001'],\n",
       " ['10', '12', 'A', '1010'],\n",
       " ['11', '13', 'B', '1011'],\n",
       " ['12', '14', 'C', '1100'],\n",
       " ['13', '15', 'D', '1101'],\n",
       " ['14', '16', 'E', '1110'],\n",
       " ['15', '17', 'F', '1111'],\n",
       " ['16', '20', '10', '10000'],\n",
       " ['17', '21', '11', '10001']]"
      ]
     },
     "execution_count": 2,
     "metadata": {},
     "output_type": "execute_result"
    }
   ],
   "source": [
    "results"
   ]
  },
  {
   "cell_type": "code",
   "execution_count": null,
   "id": "c95156ea",
   "metadata": {},
   "outputs": [],
   "source": []
  }
 ],
 "metadata": {
  "kernelspec": {
   "display_name": "Python 3 (ipykernel)",
   "language": "python",
   "name": "python3"
  },
  "language_info": {
   "codemirror_mode": {
    "name": "ipython",
    "version": 3
   },
   "file_extension": ".py",
   "mimetype": "text/x-python",
   "name": "python",
   "nbconvert_exporter": "python",
   "pygments_lexer": "ipython3",
   "version": "3.7.11"
  }
 },
 "nbformat": 4,
 "nbformat_minor": 5
}
