{
 "cells": [
  {
   "cell_type": "code",
   "execution_count": 1,
   "id": "c8eb6a56",
   "metadata": {},
   "outputs": [
    {
     "data": {
      "text/plain": [
       "[('English', 88), ('Science', 90), ('Maths', 97), ('Social sciences', 82)]"
      ]
     },
     "execution_count": 1,
     "metadata": {},
     "output_type": "execute_result"
    }
   ],
   "source": [
    "subject_marks = [('English', 88), ('Science', 90), ('Maths', 97), ('Social sciences', 82)]\n",
    "subject_marks"
   ]
  },
  {
   "cell_type": "code",
   "execution_count": 2,
   "id": "5a9b80c7",
   "metadata": {},
   "outputs": [
    {
     "data": {
      "text/plain": [
       "[('Social sciences', 82), ('English', 88), ('Science', 90), ('Maths', 97)]"
      ]
     },
     "execution_count": 2,
     "metadata": {},
     "output_type": "execute_result"
    }
   ],
   "source": [
    "subject_marks.sort(key=lambda x:x[1])\n",
    "subject_marks"
   ]
  },
  {
   "cell_type": "code",
   "execution_count": 3,
   "id": "06dcd583",
   "metadata": {},
   "outputs": [
    {
     "data": {
      "text/plain": [
       "[('English', 88), ('Maths', 97), ('Science', 90), ('Social sciences', 82)]"
      ]
     },
     "execution_count": 3,
     "metadata": {},
     "output_type": "execute_result"
    }
   ],
   "source": [
    "subject_marks.sort(key=lambda x:x[0])\n",
    "subject_marks"
   ]
  },
  {
   "cell_type": "code",
   "execution_count": 5,
   "id": "f60963f4",
   "metadata": {},
   "outputs": [
    {
     "data": {
      "text/plain": [
       "[('English', 88), ('Maths', 97), ('Science', 90), ('Social sciences', 82)]"
      ]
     },
     "execution_count": 5,
     "metadata": {},
     "output_type": "execute_result"
    }
   ],
   "source": [
    "subject_marks.sort(key=lambda x:(x[0],x[1]))\n",
    "subject_marks"
   ]
  },
  {
   "cell_type": "code",
   "execution_count": 6,
   "id": "b8c98221",
   "metadata": {},
   "outputs": [
    {
     "data": {
      "text/plain": [
       "[('Social sciences', 82), ('English', 88), ('Science', 90), ('Maths', 97)]"
      ]
     },
     "execution_count": 6,
     "metadata": {},
     "output_type": "execute_result"
    }
   ],
   "source": [
    "subject_marks.sort(key=lambda x:(x[1],x[0]))\n",
    "subject_marks"
   ]
  },
  {
   "cell_type": "code",
   "execution_count": null,
   "id": "8d488176",
   "metadata": {},
   "outputs": [],
   "source": []
  }
 ],
 "metadata": {
  "kernelspec": {
   "display_name": "Python 3 (ipykernel)",
   "language": "python",
   "name": "python3"
  },
  "language_info": {
   "codemirror_mode": {
    "name": "ipython",
    "version": 3
   },
   "file_extension": ".py",
   "mimetype": "text/x-python",
   "name": "python",
   "nbconvert_exporter": "python",
   "pygments_lexer": "ipython3",
   "version": "3.7.11"
  }
 },
 "nbformat": 4,
 "nbformat_minor": 5
}
