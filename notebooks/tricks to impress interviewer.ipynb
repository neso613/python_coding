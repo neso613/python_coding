{
 "cells": [
  {
   "cell_type": "code",
   "execution_count": 3,
   "id": "81f7fa97",
   "metadata": {},
   "outputs": [
    {
     "name": "stdout",
     "output_type": "stream",
     "text": [
      "[45, 22, 14, 65, 97, 72]\n",
      "['fizzbuzz', 22, 14, 65, 97, 'fizz']\n"
     ]
    }
   ],
   "source": [
    "#Iterate With enumerate() Instead of range()\n",
    "\n",
    "#https://realpython.com/python-coding-interview-tips/#save-memory-with-generators\n",
    "## Question : There’s a classic coding interview question named FizzBuzz that can be solved by iterating over both indices and values. In FizzBuzz, you are given a list of integers. Your task is to do the following:\n",
    "\n",
    "#Replace all integers that are evenly divisible by 3 with \"fizz\"\n",
    "#Replace all integers divisible by 5 with \"buzz\"\n",
    "#Replace all integers divisible by both 3 and 5 with \"fizzbuzz\"\n",
    "\n",
    "numbers = [45, 22, 14, 65, 97, 72]\n",
    "print(numbers)\n",
    "for i,num in enumerate(numbers):\n",
    "    if num%3==0 and num%5==0:\n",
    "        numbers[i] = 'fizzbuzz'\n",
    "    elif num%3==0:\n",
    "        numbers[i] = 'fizz'\n",
    "    elif num%6==0:\n",
    "        numbers[i] = 'buzz'\n",
    "print(numbers)"
   ]
  },
  {
   "cell_type": "code",
   "execution_count": 5,
   "id": "40fef5fc",
   "metadata": {},
   "outputs": [
    {
     "name": "stdout",
     "output_type": "stream",
     "text": [
      "[16, 4, 1, 36, 81, 49]\n",
      "[16, 4, 1, 36, 81, 49]\n"
     ]
    }
   ],
   "source": [
    "#Use List Comprehensions Instead of map() and filter()\n",
    "\n",
    "numbers = [4, 2, 1, 6, 9, 7]\n",
    "# using map/filter\n",
    "def square(x):\n",
    "    return x*x\n",
    "print(list(map(square,numbers)))\n",
    "\n",
    "#using list comprehensions\n",
    "print([square(x) for x in numbers])"
   ]
  },
  {
   "cell_type": "code",
   "execution_count": 7,
   "id": "b7dde2fb",
   "metadata": {},
   "outputs": [
    {
     "name": "stdout",
     "output_type": "stream",
     "text": [
      "My name is Hari and I'm 1.80000 decades old.\n",
      "My name is Hari\n"
     ]
    }
   ],
   "source": [
    "#Format strings With f-Strings\n",
    "name='Hari'\n",
    "age=18\n",
    "\n",
    "print(f\"My name is {name} and I'm {age / 10:.5f} decades old.\")\n",
    "print(f\"My name is {name}\")"
   ]
  },
  {
   "cell_type": "code",
   "execution_count": 14,
   "id": "a44b0daa",
   "metadata": {},
   "outputs": [
    {
     "name": "stdout",
     "output_type": "stream",
     "text": [
      "[1, 2, 4, 6, 7, 9]\n",
      "[9, 7, 6, 4, 2, 1]\n",
      "[{'type': 'elephant', 'name': 'Devon', 'age': 3}, {'type': 'puma', 'name': 'Moe', 'age': 5}, {'type': 'penguin', 'name': 'Stephanie', 'age': 8}]\n"
     ]
    }
   ],
   "source": [
    "#Sort Complex Lists With sorted()\n",
    "numbers = [4, 2, 1, 6, 9, 7]\n",
    "example1 = sorted(numbers)\n",
    "example2 = sorted(numbers,reverse=True)\n",
    "print(example1,example2,sep='\\n')\n",
    "\n",
    "animals = [\n",
    "{'type': 'penguin', 'name': 'Stephanie', 'age': 8},\n",
    "{'type': 'elephant', 'name': 'Devon', 'age': 3},\n",
    "{'type': 'puma', 'name': 'Moe', 'age': 5},\n",
    "]\n",
    "print(sorted(animals,key=lambda x:x['age']))"
   ]
  },
  {
   "cell_type": "code",
   "execution_count": 15,
   "id": "d87c49c0",
   "metadata": {},
   "outputs": [
    {
     "data": {
      "text/plain": [
       "333833500"
      ]
     },
     "execution_count": 15,
     "metadata": {},
     "output_type": "execute_result"
    }
   ],
   "source": [
    "#Save Memory With Generators\n",
    "#List comprehensions are convenient tools but can sometimes lead to unnecessary memory usage.\n",
    "#Imagine you’ve been asked to find the sum of the first 1000 perfect squares, starting with 1. \n",
    "#You know about list comprehensions, so you quickly code up a working solution:\n",
    "\n",
    "sum([i * i for i in range(1, 1001)])"
   ]
  },
  {
   "cell_type": "code",
   "execution_count": null,
   "id": "be9bbcc1",
   "metadata": {},
   "outputs": [],
   "source": [
    "#Take Advantage of Python’s Standard Library"
   ]
  },
  {
   "cell_type": "code",
   "execution_count": null,
   "id": "3ebba6ba",
   "metadata": {},
   "outputs": [],
   "source": []
  },
  {
   "cell_type": "code",
   "execution_count": null,
   "id": "f9104406",
   "metadata": {},
   "outputs": [],
   "source": []
  },
  {
   "cell_type": "code",
   "execution_count": null,
   "id": "d97c7560",
   "metadata": {},
   "outputs": [],
   "source": []
  }
 ],
 "metadata": {
  "kernelspec": {
   "display_name": "Python 3 (ipykernel)",
   "language": "python",
   "name": "python3"
  },
  "language_info": {
   "codemirror_mode": {
    "name": "ipython",
    "version": 3
   },
   "file_extension": ".py",
   "mimetype": "text/x-python",
   "name": "python",
   "nbconvert_exporter": "python",
   "pygments_lexer": "ipython3",
   "version": "3.7.11"
  }
 },
 "nbformat": 4,
 "nbformat_minor": 5
}
