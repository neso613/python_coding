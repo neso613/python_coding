{
 "cells": [
  {
   "cell_type": "code",
   "execution_count": 22,
   "id": "a49abf09",
   "metadata": {},
   "outputs": [
    {
     "name": "stdout",
     "output_type": "stream",
     "text": [
      "['programming', 'is', 'awesome']\n",
      "4\n"
     ]
    }
   ],
   "source": [
    "checkList = ['a', 'e', 'i', 'o', 'u', 'y']\n",
    "words = 'programming is awesome'.split()#input().split()\n",
    "print(words)\n",
    "score = 0\n",
    "def checkVowel(letter):\n",
    "    return letter in checkList\n",
    "\n",
    "for i in words:\n",
    "    tmp = list(filter(checkVowel,i))\n",
    "    if len(tmp) % 2 == 0:\n",
    "        score += 2\n",
    "    else:\n",
    "        score += 1\n",
    "print(score)"
   ]
  },
  {
   "cell_type": "code",
   "execution_count": 21,
   "id": "f9998573",
   "metadata": {},
   "outputs": [
    {
     "name": "stdout",
     "output_type": "stream",
     "text": [
      "4\n"
     ]
    }
   ],
   "source": [
    "checkList = ['a', 'e', 'i', 'o', 'u', 'y']\n",
    "def checkVowel(letter):\n",
    "    return letter in checkList\n",
    "\n",
    "def score_words(words):\n",
    "    score = 0\n",
    "    for i in words:\n",
    "        tmp = list(filter(checkVowel,i))\n",
    "        if len(tmp) % 2 == 0:\n",
    "            score += 2\n",
    "        else:\n",
    "            score += 1\n",
    "    return score\n",
    "\n",
    "\n",
    "n = int(input())\n",
    "words = input().split()\n",
    "print(score_words(words))"
   ]
  },
  {
   "cell_type": "code",
   "execution_count": null,
   "id": "13482735",
   "metadata": {},
   "outputs": [],
   "source": []
  }
 ],
 "metadata": {
  "kernelspec": {
   "display_name": "Python 3 (ipykernel)",
   "language": "python",
   "name": "python3"
  },
  "language_info": {
   "codemirror_mode": {
    "name": "ipython",
    "version": 3
   },
   "file_extension": ".py",
   "mimetype": "text/x-python",
   "name": "python",
   "nbconvert_exporter": "python",
   "pygments_lexer": "ipython3",
   "version": "3.7.11"
  }
 },
 "nbformat": 4,
 "nbformat_minor": 5
}
