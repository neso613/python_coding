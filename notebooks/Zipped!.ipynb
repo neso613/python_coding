{
 "cells": [
  {
   "cell_type": "markdown",
   "id": "71cbccc3",
   "metadata": {},
   "source": [
    "This function returns a list of tuples. The th tuple contains the th element from each of the argument sequences or iterables.\n",
    "\n",
    "If the argument sequences are of unequal lengths, then the returned list is truncated to the length of the shortest argument sequence."
   ]
  },
  {
   "cell_type": "code",
   "execution_count": 1,
   "id": "b1b07922",
   "metadata": {},
   "outputs": [
    {
     "name": "stdout",
     "output_type": "stream",
     "text": [
      "5 3\n"
     ]
    }
   ],
   "source": [
    "N,X=input().split()"
   ]
  },
  {
   "cell_type": "code",
   "execution_count": 24,
   "id": "faf48a6c",
   "metadata": {},
   "outputs": [
    {
     "name": "stdout",
     "output_type": "stream",
     "text": [
      "91 92 83 89 90.5\n",
      "89 90 78 93 80\n",
      "90 91 85 88 86\n"
     ]
    }
   ],
   "source": [
    "marks = []\n",
    "for i in range(int(X)):\n",
    "    marks.append(map(float,input().split()))\n",
    "    "
   ]
  },
  {
   "cell_type": "code",
   "execution_count": 26,
   "id": "81c46e0f",
   "metadata": {},
   "outputs": [
    {
     "name": "stdout",
     "output_type": "stream",
     "text": [
      "92.0 90.0 91.0\n",
      "91.0\n",
      "83.0 78.0 85.0\n",
      "82.0\n",
      "89.0 93.0 88.0\n",
      "90.0\n",
      "90.5 80.0 86.0\n",
      "85.5\n"
     ]
    }
   ],
   "source": [
    "for i,j,k in zip(*marks):\n",
    "    print((i+j+k)/int(X))\n",
    "    \n",
    "    "
   ]
  },
  {
   "cell_type": "code",
   "execution_count": 27,
   "id": "40492d41",
   "metadata": {},
   "outputs": [],
   "source": [
    "for i in zip(*marks): \n",
    "    print(sum(i)/len(i))"
   ]
  },
  {
   "cell_type": "code",
   "execution_count": null,
   "id": "a8fb9b3d",
   "metadata": {},
   "outputs": [],
   "source": [
    "91 92 83 89 90.5\n",
    "89 90 78 93 80\n",
    "90 91 85 88 86"
   ]
  }
 ],
 "metadata": {
  "kernelspec": {
   "display_name": "Python 3 (ipykernel)",
   "language": "python",
   "name": "python3"
  },
  "language_info": {
   "codemirror_mode": {
    "name": "ipython",
    "version": 3
   },
   "file_extension": ".py",
   "mimetype": "text/x-python",
   "name": "python",
   "nbconvert_exporter": "python",
   "pygments_lexer": "ipython3",
   "version": "3.7.11"
  }
 },
 "nbformat": 4,
 "nbformat_minor": 5
}
