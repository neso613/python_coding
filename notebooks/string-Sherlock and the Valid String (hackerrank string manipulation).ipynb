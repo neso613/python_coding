{
 "cells": [
  {
   "cell_type": "markdown",
   "id": "f72e226d",
   "metadata": {},
   "source": [
    "Sherlock considers a string to be valid if all characters of the string appear the same number of times. It is also valid if he can remove just  character at  index in the string, and the remaining characters will occur the same number of times. Given a string , determine if it is valid. If so, return YES, otherwise return NO."
   ]
  },
  {
   "cell_type": "code",
   "execution_count": 153,
   "id": "401b8997",
   "metadata": {},
   "outputs": [],
   "source": [
    "def sherlock(s):\n",
    "    dictt = {}\n",
    "    freq = {}\n",
    "    for i in set(s):\n",
    "        dictt[i] = s.count(i)\n",
    "    freq_list = list(dictt.values())\n",
    "    for j in set(freq_list):\n",
    "        freq[j] = freq_list.count(j)\n",
    "    if len(freq) == 1:\n",
    "        return \"Yes\"\n",
    "    elif len(freq) > 2:\n",
    "        return \"No\"\n",
    "    elif 1 in freq.values() and (freq[min(freq.keys())]==1 or (max(freq.keys()) - min(freq.keys())==1)):\n",
    "        return \"Yes\"\n",
    "    else:\n",
    "        return \"No\""
   ]
  },
  {
   "cell_type": "code",
   "execution_count": 154,
   "id": "0fb2cd51",
   "metadata": {},
   "outputs": [
    {
     "data": {
      "text/plain": [
       "'Yes'"
      ]
     },
     "execution_count": 154,
     "metadata": {},
     "output_type": "execute_result"
    }
   ],
   "source": [
    "sherlock(\"abc\")"
   ]
  },
  {
   "cell_type": "code",
   "execution_count": 155,
   "id": "615eec78",
   "metadata": {},
   "outputs": [
    {
     "data": {
      "text/plain": [
       "'Yes'"
      ]
     },
     "execution_count": 155,
     "metadata": {},
     "output_type": "execute_result"
    }
   ],
   "source": [
    "sherlock(\"abcc\")"
   ]
  },
  {
   "cell_type": "code",
   "execution_count": 156,
   "id": "986666d8",
   "metadata": {},
   "outputs": [
    {
     "data": {
      "text/plain": [
       "'No'"
      ]
     },
     "execution_count": 156,
     "metadata": {},
     "output_type": "execute_result"
    }
   ],
   "source": [
    "sherlock(\"abccc\")"
   ]
  },
  {
   "cell_type": "code",
   "execution_count": 157,
   "id": "402ce387",
   "metadata": {},
   "outputs": [
    {
     "data": {
      "text/plain": [
       "'Yes'"
      ]
     },
     "execution_count": 157,
     "metadata": {},
     "output_type": "execute_result"
    }
   ],
   "source": [
    "sherlock(\"abbcc\")"
   ]
  },
  {
   "cell_type": "code",
   "execution_count": 158,
   "id": "32c337a1",
   "metadata": {},
   "outputs": [
    {
     "data": {
      "text/plain": [
       "'Yes'"
      ]
     },
     "execution_count": 158,
     "metadata": {},
     "output_type": "execute_result"
    }
   ],
   "source": [
    "sherlock('abcdefghhgfedecba')"
   ]
  },
  {
   "cell_type": "code",
   "execution_count": 149,
   "id": "b1bc38b8",
   "metadata": {},
   "outputs": [
    {
     "data": {
      "text/plain": [
       "dict_values([1, 2])"
      ]
     },
     "execution_count": 149,
     "metadata": {},
     "output_type": "execute_result"
    }
   ],
   "source": [
    "c.values()"
   ]
  },
  {
   "cell_type": "code",
   "execution_count": 150,
   "id": "1f3794f1",
   "metadata": {},
   "outputs": [
    {
     "data": {
      "text/plain": [
       "1"
      ]
     },
     "execution_count": 150,
     "metadata": {},
     "output_type": "execute_result"
    }
   ],
   "source": [
    "c[min(c.keys())]"
   ]
  },
  {
   "cell_type": "code",
   "execution_count": 151,
   "id": "242b3519",
   "metadata": {},
   "outputs": [
    {
     "data": {
      "text/plain": [
       "2"
      ]
     },
     "execution_count": 151,
     "metadata": {},
     "output_type": "execute_result"
    }
   ],
   "source": [
    "max(c.keys())"
   ]
  },
  {
   "cell_type": "code",
   "execution_count": 152,
   "id": "507c5f82",
   "metadata": {},
   "outputs": [
    {
     "data": {
      "text/plain": [
       "1"
      ]
     },
     "execution_count": 152,
     "metadata": {},
     "output_type": "execute_result"
    }
   ],
   "source": [
    "min(c.keys())"
   ]
  },
  {
   "cell_type": "code",
   "execution_count": null,
   "id": "d2063a55",
   "metadata": {},
   "outputs": [],
   "source": []
  }
 ],
 "metadata": {
  "kernelspec": {
   "display_name": "Python 3 (ipykernel)",
   "language": "python",
   "name": "python3"
  },
  "language_info": {
   "codemirror_mode": {
    "name": "ipython",
    "version": 3
   },
   "file_extension": ".py",
   "mimetype": "text/x-python",
   "name": "python",
   "nbconvert_exporter": "python",
   "pygments_lexer": "ipython3",
   "version": "3.7.11"
  }
 },
 "nbformat": 4,
 "nbformat_minor": 5
}
