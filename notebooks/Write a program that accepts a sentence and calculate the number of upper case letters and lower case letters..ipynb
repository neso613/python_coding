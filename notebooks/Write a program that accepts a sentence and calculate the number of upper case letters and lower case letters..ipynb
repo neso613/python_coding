{
 "cells": [
  {
   "cell_type": "markdown",
   "id": "b9526292",
   "metadata": {},
   "source": [
    "Suppose the following input is supplied to the program:\n",
    "Hello world!\n",
    "Then, the output should be:\n",
    "UPPER CASE 1\n",
    "LOWER CASE 9"
   ]
  },
  {
   "cell_type": "code",
   "execution_count": 13,
   "id": "9f2d434b",
   "metadata": {},
   "outputs": [],
   "source": [
    "def case_count(seq):\n",
    "    dictt = {\n",
    "    \"UPPER CASE\" : 0,\n",
    "    \"LOWER CASE\" : 0\n",
    "    }\n",
    "    for word in seq.split():\n",
    "        for i in word:\n",
    "            if i.isupper():\n",
    "                dictt[\"UPPER CASE\"] +=1\n",
    "            elif i.islower():\n",
    "                dictt[\"LOWER CASE\"] +=1\n",
    "            else:\n",
    "                continue\n",
    "    return print(\"UPPER CASE : %d \\nLOWER CASE : %d\" % (dictt[\"UPPER CASE\"],dictt[\"LOWER CASE\"]))"
   ]
  },
  {
   "cell_type": "code",
   "execution_count": 14,
   "id": "7d3e64f9",
   "metadata": {},
   "outputs": [
    {
     "name": "stdout",
     "output_type": "stream",
     "text": [
      "UPPER CASE : 1 \n",
      "LOWER CASE : 9\n"
     ]
    }
   ],
   "source": [
    "case_count('Hello world!')"
   ]
  },
  {
   "cell_type": "code",
   "execution_count": 15,
   "id": "933ad0a1",
   "metadata": {},
   "outputs": [
    {
     "name": "stdout",
     "output_type": "stream",
     "text": [
      "Hello world!\n",
      "UPPER CASE : 1 \n",
      "LOWER CASE : 9\n"
     ]
    }
   ],
   "source": [
    "dictt = {\n",
    "\"UPPER CASE\" : 0,\n",
    "\"LOWER CASE\" : 0\n",
    "}\n",
    "seq = input()\n",
    "for i in seq:\n",
    "    if i.isupper():\n",
    "        dictt[\"UPPER CASE\"] +=1\n",
    "    elif i.islower():\n",
    "        dictt[\"LOWER CASE\"] +=1\n",
    "    else:\n",
    "        continue\n",
    "print(\"UPPER CASE : %d \\nLOWER CASE : %d\" % (dictt[\"UPPER CASE\"],dictt[\"LOWER CASE\"]))"
   ]
  },
  {
   "cell_type": "code",
   "execution_count": null,
   "id": "3ee51cd5",
   "metadata": {},
   "outputs": [],
   "source": []
  }
 ],
 "metadata": {
  "kernelspec": {
   "display_name": "Python 3 (ipykernel)",
   "language": "python",
   "name": "python3"
  },
  "language_info": {
   "codemirror_mode": {
    "name": "ipython",
    "version": 3
   },
   "file_extension": ".py",
   "mimetype": "text/x-python",
   "name": "python",
   "nbconvert_exporter": "python",
   "pygments_lexer": "ipython3",
   "version": "3.7.11"
  }
 },
 "nbformat": 4,
 "nbformat_minor": 5
}
