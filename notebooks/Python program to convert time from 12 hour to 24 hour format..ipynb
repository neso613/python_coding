{
 "cells": [
  {
   "cell_type": "code",
   "execution_count": 44,
   "id": "de9a3515",
   "metadata": {},
   "outputs": [
    {
     "name": "stdout",
     "output_type": "stream",
     "text": [
      "20:05:45\n",
      "00:10:25 \n",
      "12:00:12 \n",
      "04:20:45 \n",
      "18:15:45\n"
     ]
    }
   ],
   "source": [
    "def convert_time_format(time):\n",
    "    if time[-2:] == \"AM\" and time[:2] == \"12\":\n",
    "        return \"00\" + time[2:-2]\n",
    "    elif time[-2:] == \"AM\":\n",
    "        return time[:-2]\n",
    "    elif time[-2:] == \"PM\" and time[:2] == \"12\":\n",
    "        return time[:-2]\n",
    "    else:\n",
    "        return str(int(time[:2])+12) + time[2:8]\n",
    "print(convert_time_format(\"08:05:45 PM\"))\n",
    "print(convert_time_format(\"12:10:25 AM\"))\n",
    "print(convert_time_format(\"12:00:12 PM\"))\n",
    "print(convert_time_format(\"04:20:45 AM\"))\n",
    "print(convert_time_format(\"06:15:45 PM\"))"
   ]
  },
  {
   "cell_type": "code",
   "execution_count": 45,
   "id": "69160448",
   "metadata": {},
   "outputs": [
    {
     "data": {
      "text/plain": [
       "('PM', '08:05:45 ', ':05:45 PM', '08')"
      ]
     },
     "execution_count": 45,
     "metadata": {},
     "output_type": "execute_result"
    }
   ],
   "source": [
    "s = \"08:05:45 PM\"\n",
    "s[-2:],s[:-2],s[2:],s[:2]"
   ]
  },
  {
   "cell_type": "code",
   "execution_count": null,
   "id": "f3e1e9a0",
   "metadata": {},
   "outputs": [],
   "source": []
  }
 ],
 "metadata": {
  "kernelspec": {
   "display_name": "Python 3 (ipykernel)",
   "language": "python",
   "name": "python3"
  },
  "language_info": {
   "codemirror_mode": {
    "name": "ipython",
    "version": 3
   },
   "file_extension": ".py",
   "mimetype": "text/x-python",
   "name": "python",
   "nbconvert_exporter": "python",
   "pygments_lexer": "ipython3",
   "version": "3.7.11"
  }
 },
 "nbformat": 4,
 "nbformat_minor": 5
}
