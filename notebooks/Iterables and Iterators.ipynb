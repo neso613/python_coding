{
 "cells": [
  {
   "cell_type": "code",
   "execution_count": 9,
   "id": "3c6f41a6",
   "metadata": {},
   "outputs": [
    {
     "name": "stdout",
     "output_type": "stream",
     "text": [
      "[('a', 'a'), ('a', 'c'), ('a', 'd'), ('a', 'c'), ('a', 'd')] \n",
      " [('a', 'a'), ('a', 'c'), ('a', 'd'), ('a', 'c'), ('a', 'd'), ('c', 'd')]\n",
      "0.8333333333333334\n"
     ]
    }
   ],
   "source": [
    "n = 4\n",
    "string = 'a a c d'.split()\n",
    "k = 2\n",
    "from itertools import combinations\n",
    "c = list(combinations(string,k))\n",
    "f = list(filter(lambda x: \"a\" in x,c))\n",
    "print(f,\"\\n\",c)\n",
    "print(len(list(f))/len(c))"
   ]
  },
  {
   "cell_type": "code",
   "execution_count": null,
   "id": "a2e21596",
   "metadata": {},
   "outputs": [],
   "source": [
    "from itertools import combinations\n",
    "\n",
    "N = int(input())\n",
    "L = input().split()\n",
    "K = int(input())\n",
    "\n",
    "C = list(combinations(L, K))\n",
    "F = filter(lambda c: 'a' in c, C)\n",
    "print(\"{0:.3}\".format(len(list(F))/len(C)))"
   ]
  }
 ],
 "metadata": {
  "kernelspec": {
   "display_name": "Python 3 (ipykernel)",
   "language": "python",
   "name": "python3"
  },
  "language_info": {
   "codemirror_mode": {
    "name": "ipython",
    "version": 3
   },
   "file_extension": ".py",
   "mimetype": "text/x-python",
   "name": "python",
   "nbconvert_exporter": "python",
   "pygments_lexer": "ipython3",
   "version": "3.7.11"
  }
 },
 "nbformat": 4,
 "nbformat_minor": 5
}
