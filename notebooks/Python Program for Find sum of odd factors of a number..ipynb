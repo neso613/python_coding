{
 "cells": [
  {
   "cell_type": "code",
   "execution_count": 21,
   "id": "1ca511c7",
   "metadata": {},
   "outputs": [],
   "source": [
    "def sum_of_odd_factors(n):\n",
    "    lis = []\n",
    "    for i in range(1,n//2+1):\n",
    "        if n % i == 0 and i % 2 !=0: \n",
    "            lis.append(i)\n",
    "    return 'Sum of odd factors i.e %s of %d is %d'%(lis,n,sum(lis))"
   ]
  },
  {
   "cell_type": "code",
   "execution_count": 22,
   "id": "a83c303d",
   "metadata": {},
   "outputs": [
    {
     "name": "stdout",
     "output_type": "stream",
     "text": [
      "Sum of odd factors i.e [1, 3, 5, 15] of 30 is 24\n",
      "Sum of odd factors i.e [1, 3, 9] of 18 is 13\n",
      "Sum of odd factors i.e [1, 3, 5] of 15 is 9\n",
      "Sum of odd factors i.e [1] of 43 is 1\n"
     ]
    }
   ],
   "source": [
    "print(sum_of_odd_factors(30))\n",
    "print(sum_of_odd_factors(18))\n",
    "print(sum_of_odd_factors(15))\n",
    "print(sum_of_odd_factors(43))"
   ]
  },
  {
   "cell_type": "code",
   "execution_count": null,
   "id": "959e2942",
   "metadata": {},
   "outputs": [],
   "source": []
  }
 ],
 "metadata": {
  "kernelspec": {
   "display_name": "Python 3 (ipykernel)",
   "language": "python",
   "name": "python3"
  },
  "language_info": {
   "codemirror_mode": {
    "name": "ipython",
    "version": 3
   },
   "file_extension": ".py",
   "mimetype": "text/x-python",
   "name": "python",
   "nbconvert_exporter": "python",
   "pygments_lexer": "ipython3",
   "version": "3.7.11"
  }
 },
 "nbformat": 4,
 "nbformat_minor": 5
}
