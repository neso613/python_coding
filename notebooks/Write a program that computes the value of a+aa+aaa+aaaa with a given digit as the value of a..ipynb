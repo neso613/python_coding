{
 "cells": [
  {
   "cell_type": "code",
   "execution_count": 43,
   "id": "a7690d3e",
   "metadata": {},
   "outputs": [
    {
     "name": "stdout",
     "output_type": "stream",
     "text": [
      "9\n",
      "99\n",
      "999\n",
      "9999\n"
     ]
    },
    {
     "data": {
      "text/plain": [
       "11106"
      ]
     },
     "execution_count": 43,
     "metadata": {},
     "output_type": "execute_result"
    }
   ],
   "source": [
    "n = 9\n",
    "sum = 0\n",
    "nn = n * 0 + n # 9*0+9=9\n",
    "print(nn)\n",
    "sum = sum + nn\n",
    "nn = n * 10 + nn  # 9*10+9=99\n",
    "print(nn)\n",
    "sum = sum + nn\n",
    "nn = n * 100 + nn # 9 * 100 + 99 = 999\n",
    "print(nn)\n",
    "sum = sum + nn\n",
    "nn = n * 1000 + nn # 9 * 100 + 99 = 999\n",
    "print(nn)\n",
    "sum = sum + nn\n",
    "sum"
   ]
  },
  {
   "cell_type": "code",
   "execution_count": 67,
   "id": "e053d6a2",
   "metadata": {},
   "outputs": [],
   "source": [
    "def find_sum(n):\n",
    "    nn,sum = n,n\n",
    "    for i in range(1,4):\n",
    "        nn = n * pow(10,i) + nn\n",
    "        sum = sum + nn\n",
    "    return sum"
   ]
  },
  {
   "cell_type": "code",
   "execution_count": 68,
   "id": "549def31",
   "metadata": {},
   "outputs": [
    {
     "data": {
      "text/plain": [
       "11106"
      ]
     },
     "execution_count": 68,
     "metadata": {},
     "output_type": "execute_result"
    }
   ],
   "source": [
    "find_sum(9)"
   ]
  },
  {
   "cell_type": "code",
   "execution_count": 69,
   "id": "6794dd32",
   "metadata": {},
   "outputs": [
    {
     "data": {
      "text/plain": [
       "3702"
      ]
     },
     "execution_count": 69,
     "metadata": {},
     "output_type": "execute_result"
    }
   ],
   "source": [
    "find_sum(3)"
   ]
  },
  {
   "cell_type": "code",
   "execution_count": null,
   "id": "b7d1933b",
   "metadata": {},
   "outputs": [],
   "source": []
  }
 ],
 "metadata": {
  "kernelspec": {
   "display_name": "Python 3 (ipykernel)",
   "language": "python",
   "name": "python3"
  },
  "language_info": {
   "codemirror_mode": {
    "name": "ipython",
    "version": 3
   },
   "file_extension": ".py",
   "mimetype": "text/x-python",
   "name": "python",
   "nbconvert_exporter": "python",
   "pygments_lexer": "ipython3",
   "version": "3.7.11"
  }
 },
 "nbformat": 4,
 "nbformat_minor": 5
}
