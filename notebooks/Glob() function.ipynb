{
 "cells": [
  {
   "cell_type": "markdown",
   "id": "546af5e4",
   "metadata": {},
   "source": [
    "In Python, the glob module is used to retrieve files/pathnames matching a specified pattern. The pattern rules of glob follow standard Unix path expansion rules. It is also predicted that according to benchmarks it is faster than other methods to match pathnames in directories. With glob, we can also use wildcards (\"*, ?, [ranges]) apart from exact string search to make path retrieval more simple and convenient."
   ]
  },
  {
   "cell_type": "code",
   "execution_count": 3,
   "id": "0c25998e",
   "metadata": {},
   "outputs": [
    {
     "name": "stdout",
     "output_type": "stream",
     "text": [
      "0  How to Sort Characters by Frequency in Python?.ipynb\n",
      "1  Python Program for Find sum of odd factors of a number..ipynb\n",
      "2  collections.OrderedDict.ipynb\n",
      "3  Find a string.ipynb\n",
      "4  Find all distinct palindromic sub-strings of a given string.ipynb\n",
      "5  Python Program to Reverse Each Word in The String.ipynb\n",
      "6  get length of string without using len() method.ipynb\n",
      "7  Iterables and Iterators.ipynb\n",
      "8  Words Score.ipynb\n",
      "9  Regex Substitution (re.sub).ipynb\n",
      "10  Map and Lambda Function.ipynb\n",
      "11  string - special strings (hackerrank string manipulations challenge 3).ipynb\n",
      "12  Write a program which accepts a sequence of comma separated 4 digit binary numbers as its input and then check whether they are divisible by 5 or not. The numbers that are divisible by 5 are to be printed in a comma separated sequence..ipynb\n",
      "13  Python program to print Fibonacci series.ipynb\n",
      "14  Finding the percentage.ipynb\n",
      "15  Print a single base- 10integer that denotes the maximum number of consecutive 1's in the binary representation of ..ipynb\n",
      "16  Find Remainder without using Modulus Operator.ipynb\n",
      "17  Collections.deque().ipynb\n",
      "18  Write a program that computes the value of a+aa+aaa+aaaa with a given digit as the value of a..ipynb\n",
      "19  Print the elements of array  in reverse order as a single line of space-separated numbers..ipynb\n",
      "20  Merge the Tool!.ipynb\n",
      "21  Company Logo!.ipynb\n",
      "22  string - Alternating Characters(Hackerrank String Manipulation solution).ipynb\n",
      "23  Any or All.ipynb\n",
      "24  lambda functions.ipynb\n",
      "25  sring- common substring from two strings.ipynb\n",
      "26  itertool examples.ipynb\n",
      "27  string- check anagrams.ipynb\n",
      "28  Mod Divmod.ipynb\n",
      "29  Write a program, which will find all such numbers between 1000 and 3000 (both included) such that each digit of the number is an even number..ipynb\n",
      "30  Compress the String!.ipynb\n",
      "31  collections.Counter().ipynb\n",
      "32  Check Subset.ipynb\n",
      "33  Zipped!.ipynb\n",
      "34  prime_number.ipynb\n",
      "35  create a string from list of string.ipynb\n",
      "36  sWAP cASE.ipynb\n",
      "37  Re.split().ipynb\n",
      "38  Use a list comprehension to square each odd number in a list..ipynb\n",
      "39  Integers Come In All Sizes.ipynb\n",
      "40  sort the list on the ascending order of the summation of digit elements .ipynb\n",
      "41  Find the Runner-Up Score!.ipynb\n",
      "42  Write a program that accepts a sentence and calculate the number of letters and digits..ipynb\n",
      "43  replace all odds numbers in array with -1.ipynb\n",
      "44  String Split and Join.ipynb\n",
      "45  The Minion Game.ipynb\n",
      "46   count the occurrences of a particular element in the list.ipynb\n",
      "47  string-Sherlock and the Valid String (hackerrank string manipulation).ipynb\n",
      "48   A website requires the users to input username and password to register. Write a program to check the validity of password input by users..ipynb\n",
      "49  how to get commons between two numpy array.ipynb\n",
      "50  Nested Lists.ipynb\n",
      "51  Re.start() & Re.end().ipynb\n",
      "52  generate N-grams .ipynb\n",
      "53  string build-in methods.ipynb\n",
      "54  Write a program that accepts a sentence and calculate the number of upper case letters and lower case letters..ipynb\n",
      "55  Reverse String Without Affecting Special Characters.ipynb\n",
      "56  program to check a given number is perfect or not in Python.ipynb\n",
      "57  Remove empty strings from the list of strings.ipynb\n",
      "58  string_decimal_hex_oct.ipynb\n",
      "59  You are required to write a program to sort the (name, age, height) tuples by ascending order where name is string, age and height are numbers..ipynb\n",
      "60  Word Order!.ipynb\n",
      "61  Python program to convert time from 12 hour to 24 hour format..ipynb\n",
      "62  Text Alignment.ipynb\n",
      "63  Loops.ipynb\n",
      "64  Concatenate two lists index-wise.ipynb\n",
      "65  Add new item to list after a specified item.ipynb\n",
      "66  ginortS.ipynb\n",
      "67  Alphabet Rangoli.ipynb\n",
      "68  Write a program to iterate both lists simultaneously and display items from list1 in original order and items from list2 in reverse order..ipynb\n",
      "69  Glob() function.ipynb\n",
      "70  print sum of the numbers starting from 1 to 100.ipynb\n",
      "71  Power - Mod Power.ipynb\n",
      "72  Athlete Sort.ipynb\n",
      "73  Program to Check Common Letters in Two Input Strings.ipynb\n",
      "74  Text Wrap!.ipynb\n",
      "75  Write a program to compute the frequency of the words from the input..ipynb\n",
      "76   Turn every item of a list into its square.ipynb\n",
      "77  string - make anagrams by deleting extra characters in string.ipynb\n",
      "78  sort the list on the ascending order of the ones place digit elements .ipynb\n",
      "79  Find longest palindromic sub-string of a given string..ipynb\n",
      "80  integer - concatenate int in list.ipynb\n",
      "81  Given a list of strings, return a list containing all strings with three consecutive characters “a” in it..ipynb\n",
      "82  Find the Torsional Angle.ipynb\n",
      "83  No idea!.ipynb\n",
      "84  Designer Door Mat.ipynb\n",
      "85  Check Strict Superset.ipynb\n",
      "86  List Comprehensions.ipynb\n",
      "87  Capitalize!.ipynb\n",
      "88  build-in methods of LIst.ipynb\n"
     ]
    }
   ],
   "source": [
    "import glob\n",
    "\n",
    "files = glob.glob('*.ipynb', recursive = True)\n",
    "for i,file in enumerate(files):\n",
    "    print(i,' ' + file)"
   ]
  },
  {
   "cell_type": "code",
   "execution_count": null,
   "id": "feb6cc14",
   "metadata": {},
   "outputs": [],
   "source": []
  },
  {
   "cell_type": "code",
   "execution_count": null,
   "id": "33a335fa",
   "metadata": {},
   "outputs": [],
   "source": []
  },
  {
   "cell_type": "code",
   "execution_count": null,
   "id": "a1b959a5",
   "metadata": {},
   "outputs": [],
   "source": []
  },
  {
   "cell_type": "code",
   "execution_count": null,
   "id": "ade34442",
   "metadata": {},
   "outputs": [],
   "source": []
  }
 ],
 "metadata": {
  "kernelspec": {
   "display_name": "Python 3 (ipykernel)",
   "language": "python",
   "name": "python3"
  },
  "language_info": {
   "codemirror_mode": {
    "name": "ipython",
    "version": 3
   },
   "file_extension": ".py",
   "mimetype": "text/x-python",
   "name": "python",
   "nbconvert_exporter": "python",
   "pygments_lexer": "ipython3",
   "version": "3.7.11"
  }
 },
 "nbformat": 4,
 "nbformat_minor": 5
}
