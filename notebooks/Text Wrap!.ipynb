{
 "cells": [
  {
   "cell_type": "code",
   "execution_count": 28,
   "id": "67e376d1",
   "metadata": {},
   "outputs": [],
   "source": [
    "s = 'ABCDEFGHIJKLIMNOQRSTUVWXYZ'\n",
    "n=5"
   ]
  },
  {
   "cell_type": "code",
   "execution_count": 29,
   "id": "11bd8fcc",
   "metadata": {},
   "outputs": [
    {
     "name": "stdout",
     "output_type": "stream",
     "text": [
      "ABCDE\n",
      "FGHIJ\n",
      "KLIMN\n",
      "OQRST\n",
      "UVWXY\n",
      "Z\n"
     ]
    }
   ],
   "source": [
    "print(*[s[i:i+n] for i in range(0,len(s),n)],sep='\\n')"
   ]
  },
  {
   "cell_type": "code",
   "execution_count": 30,
   "id": "d73d8810",
   "metadata": {},
   "outputs": [
    {
     "name": "stdout",
     "output_type": "stream",
     "text": [
      "ABCDE\n",
      "FGHIJ\n",
      "KLIMN\n",
      "OQRST\n",
      "UVWXY\n",
      "Z\n"
     ]
    }
   ],
   "source": [
    "def wrap(s, n):\n",
    "    return \"\\n\".join([s[i:i+n] for i in range(0,len(s),n)])\n",
    "print(wrap(s,n))"
   ]
  },
  {
   "cell_type": "code",
   "execution_count": 31,
   "id": "6b6e2e3a",
   "metadata": {},
   "outputs": [
    {
     "name": "stdout",
     "output_type": "stream",
     "text": [
      "ABCDE\n",
      "FGHIJ\n",
      "KLIMN\n",
      "OQRST\n",
      "UVWXY\n",
      "Z\n"
     ]
    }
   ],
   "source": [
    "for i in range(0,len(s),n):  #range(start,stop,step)\n",
    "    print(s[i:i+n])"
   ]
  },
  {
   "cell_type": "code",
   "execution_count": null,
   "id": "24df5b99",
   "metadata": {},
   "outputs": [],
   "source": []
  }
 ],
 "metadata": {
  "kernelspec": {
   "display_name": "Python 3 (ipykernel)",
   "language": "python",
   "name": "python3"
  },
  "language_info": {
   "codemirror_mode": {
    "name": "ipython",
    "version": 3
   },
   "file_extension": ".py",
   "mimetype": "text/x-python",
   "name": "python",
   "nbconvert_exporter": "python",
   "pygments_lexer": "ipython3",
   "version": "3.7.11"
  }
 },
 "nbformat": 4,
 "nbformat_minor": 5
}
