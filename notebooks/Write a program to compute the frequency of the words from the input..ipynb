{
 "cells": [
  {
   "cell_type": "code",
   "execution_count": 1,
   "id": "22847365",
   "metadata": {},
   "outputs": [
    {
     "data": {
      "text/plain": [
       "'New to Python or choosing between Python 2 and Python 3? Read Python 2 or Python 3.'"
      ]
     },
     "execution_count": 1,
     "metadata": {},
     "output_type": "execute_result"
    }
   ],
   "source": [
    "text = 'New to Python or choosing between Python 2 and Python 3? Read Python 2 or Python 3.'\n",
    "text"
   ]
  },
  {
   "cell_type": "code",
   "execution_count": 18,
   "id": "00e90193",
   "metadata": {},
   "outputs": [
    {
     "data": {
      "text/plain": [
       "{'New': 1,\n",
       " 'to': 1,\n",
       " 'Python': 5,\n",
       " 'or': 2,\n",
       " 'choosing': 1,\n",
       " 'between': 1,\n",
       " '2': 2,\n",
       " 'and': 1,\n",
       " '3?': 1,\n",
       " 'Read': 1,\n",
       " '3.': 1}"
      ]
     },
     "execution_count": 18,
     "metadata": {},
     "output_type": "execute_result"
    }
   ],
   "source": [
    "res = {key: text.count(key) for key in text.split()}\n",
    "res "
   ]
  },
  {
   "cell_type": "code",
   "execution_count": 20,
   "id": "e713f7f3",
   "metadata": {},
   "outputs": [
    {
     "name": "stdout",
     "output_type": "stream",
     "text": [
      "New:1\n",
      "to:1\n",
      "Python:5\n",
      "or:2\n",
      "choosing:1\n",
      "between:1\n",
      "2:2\n",
      "and:1\n",
      "3?:1\n",
      "Read:1\n",
      "3.:1\n"
     ]
    }
   ],
   "source": [
    "freq = {}   # frequency of words in text\n",
    "for word in text.split():\n",
    "    freq[word] = freq.get(word,0)+1\n",
    "words = freq.keys()\n",
    "for w in words:\n",
    "    print(\"%s:%d\" % (w,freq[w]))"
   ]
  },
  {
   "cell_type": "code",
   "execution_count": 21,
   "id": "0119c94d",
   "metadata": {},
   "outputs": [
    {
     "name": "stdout",
     "output_type": "stream",
     "text": [
      "1 : 3.\n",
      "1 : 3?\n",
      "1 : Read\n",
      "1 : to\n",
      "1 : between\n",
      "2 : 2\n",
      "1 : and\n",
      "1 : choosing\n",
      "1 : New\n",
      "5 : Python\n",
      "2 : or\n"
     ]
    }
   ],
   "source": [
    "words = text.split()\n",
    "unique_words = set(words)\n",
    "for word in unique_words:\n",
    "    print(words.count(word),\":\",word)"
   ]
  },
  {
   "cell_type": "code",
   "execution_count": null,
   "id": "3dc8a9be",
   "metadata": {},
   "outputs": [],
   "source": []
  }
 ],
 "metadata": {
  "kernelspec": {
   "display_name": "Python 3 (ipykernel)",
   "language": "python",
   "name": "python3"
  },
  "language_info": {
   "codemirror_mode": {
    "name": "ipython",
    "version": 3
   },
   "file_extension": ".py",
   "mimetype": "text/x-python",
   "name": "python",
   "nbconvert_exporter": "python",
   "pygments_lexer": "ipython3",
   "version": "3.7.11"
  }
 },
 "nbformat": 4,
 "nbformat_minor": 5
}
