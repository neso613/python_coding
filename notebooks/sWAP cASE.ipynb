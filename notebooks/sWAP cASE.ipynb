{
 "cells": [
  {
   "cell_type": "code",
   "execution_count": 1,
   "id": "5c4e5efc",
   "metadata": {},
   "outputs": [
    {
     "data": {
      "text/plain": [
       "'HackerRank.com presents \"Pythonist 2\".'"
      ]
     },
     "execution_count": 1,
     "metadata": {},
     "output_type": "execute_result"
    }
   ],
   "source": [
    "s = 'HackerRank.com presents \"Pythonist 2\".'\n",
    "s"
   ]
  },
  {
   "cell_type": "code",
   "execution_count": 15,
   "id": "d9d184e4",
   "metadata": {},
   "outputs": [],
   "source": [
    "def swap(i):\n",
    "    if i.islower():\n",
    "        return i.upper()\n",
    "    elif i.isupper():\n",
    "        return i.lower()\n",
    "    else:\n",
    "        return i"
   ]
  },
  {
   "cell_type": "code",
   "execution_count": 19,
   "id": "3cca35d0",
   "metadata": {},
   "outputs": [
    {
     "name": "stdout",
     "output_type": "stream",
     "text": [
      "hACKERrANK.COM PRESENTS \"pYTHONIST 2\".\n"
     ]
    }
   ],
   "source": [
    "print(*list(map(swap,s)),sep='')"
   ]
  },
  {
   "cell_type": "code",
   "execution_count": 20,
   "id": "86f542c6",
   "metadata": {},
   "outputs": [
    {
     "data": {
      "text/plain": [
       "'hACKERrANK.COM PRESENTS \"pYTHONIST 2\".'"
      ]
     },
     "execution_count": 20,
     "metadata": {},
     "output_type": "execute_result"
    }
   ],
   "source": [
    "\"\".join(list(map(swap,s)))"
   ]
  },
  {
   "cell_type": "code",
   "execution_count": null,
   "id": "fedc0f96",
   "metadata": {},
   "outputs": [],
   "source": []
  }
 ],
 "metadata": {
  "kernelspec": {
   "display_name": "Python 3 (ipykernel)",
   "language": "python",
   "name": "python3"
  },
  "language_info": {
   "codemirror_mode": {
    "name": "ipython",
    "version": 3
   },
   "file_extension": ".py",
   "mimetype": "text/x-python",
   "name": "python",
   "nbconvert_exporter": "python",
   "pygments_lexer": "ipython3",
   "version": "3.7.11"
  }
 },
 "nbformat": 4,
 "nbformat_minor": 5
}
