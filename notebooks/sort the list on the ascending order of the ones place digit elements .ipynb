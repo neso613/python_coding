{
 "cells": [
  {
   "cell_type": "code",
   "execution_count": 34,
   "id": "55f1b77e",
   "metadata": {},
   "outputs": [
    {
     "name": "stdout",
     "output_type": "stream",
     "text": [
      "The original list is : [23, 54, 91, 108, 102]\n",
      "The unit sorted list : [102, 108, 23, 54, 91]\n"
     ]
    }
   ],
   "source": [
    "def unit_sort(ele):\n",
    "    return str(ele)[-1]\n",
    "test_list = [23,54,91,108,102]\n",
    "print(\"The original list is : \" + str(test_list))\n",
    "test_list.sort(key=unit_sort)\n",
    "print(\"The unit sorted list : \" + str(test_list))\n"
   ]
  },
  {
   "cell_type": "code",
   "execution_count": null,
   "id": "782033db",
   "metadata": {},
   "outputs": [],
   "source": []
  }
 ],
 "metadata": {
  "kernelspec": {
   "display_name": "Python 3 (ipykernel)",
   "language": "python",
   "name": "python3"
  },
  "language_info": {
   "codemirror_mode": {
    "name": "ipython",
    "version": 3
   },
   "file_extension": ".py",
   "mimetype": "text/x-python",
   "name": "python",
   "nbconvert_exporter": "python",
   "pygments_lexer": "ipython3",
   "version": "3.7.11"
  }
 },
 "nbformat": 4,
 "nbformat_minor": 5
}
