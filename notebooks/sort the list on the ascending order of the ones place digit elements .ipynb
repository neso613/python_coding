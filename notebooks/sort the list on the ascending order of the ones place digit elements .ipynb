{
 "cells": [
  {
   "cell_type": "code",
   "execution_count": 34,
   "id": "4888584b",
   "metadata": {},
   "outputs": [
    {
     "name": "stdout",
     "output_type": "stream",
     "text": [
      "The original list is : [23, 54, 91, 108, 102]\n",
      "The unit sorted list : [102, 108, 23, 54, 91]\n"
     ]
    }
   ],
   "source": [
    "def unit_sort(ele):\n",
    "    return str(ele)[-1]\n",
    "test_list = [23,54,91,108,102]\n",
    "print(\"The original list is : \" + str(test_list))\n",
    "test_list.sort(key=unit_sort)\n",
    "print(\"The unit sorted list : \" + str(test_list))\n"
   ]
  },
  {
   "cell_type": "code",
   "execution_count": 41,
   "id": "bb827a34",
   "metadata": {},
   "outputs": [
    {
     "name": "stdout",
     "output_type": "stream",
     "text": [
      "23\n",
      "23\n",
      "3\n",
      "in short-->\n",
      "3\n"
     ]
    }
   ],
   "source": [
    "x = [23,54,91,108,102]\n",
    "a = x[0]\n",
    "print(a)\n",
    "\n",
    "b = str(a)\n",
    "print(b)\n",
    "\n",
    "m = b[-1]\n",
    "print(m)\n",
    "\n",
    "print('in short-->')\n",
    "unit_digit = str(x[0])[-1]\n",
    "print(unit_digit)"
   ]
  },
  {
   "cell_type": "code",
   "execution_count": null,
   "id": "06c9889a",
   "metadata": {},
   "outputs": [],
   "source": []
  }
 ],
 "metadata": {
  "kernelspec": {
   "display_name": "Python 3 (ipykernel)",
   "language": "python",
   "name": "python3"
  },
  "language_info": {
   "codemirror_mode": {
    "name": "ipython",
    "version": 3
   },
   "file_extension": ".py",
   "mimetype": "text/x-python",
   "name": "python",
   "nbconvert_exporter": "python",
   "pygments_lexer": "ipython3",
   "version": "3.7.11"
  }
 },
 "nbformat": 4,
 "nbformat_minor": 5
}
