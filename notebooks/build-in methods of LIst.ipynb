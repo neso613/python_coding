{
 "cells": [
  {
   "cell_type": "code",
   "execution_count": 2,
   "id": "ac6c5b6c",
   "metadata": {},
   "outputs": [
    {
     "name": "stdout",
     "output_type": "stream",
     "text": [
      "[1, 2, 3, 'neha', 'abc', 4.5]\n"
     ]
    }
   ],
   "source": [
    "my_list = [1,2,3,'neha','abc',4.5]\n",
    "print(my_list)"
   ]
  },
  {
   "cell_type": "code",
   "execution_count": 5,
   "id": "dffd7fb5",
   "metadata": {},
   "outputs": [
    {
     "name": "stdout",
     "output_type": "stream",
     "text": [
      "Length of list = 6\n",
      "Length of list = 6\n",
      "Length of list = 6\n"
     ]
    }
   ],
   "source": [
    "print('Length of list = %d'%len(my_list))\n",
    "print('Length of list =',len(my_list))\n",
    "print('Length of list = {}'.format(len(my_list)))"
   ]
  },
  {
   "cell_type": "code",
   "execution_count": 9,
   "id": "802d3b1b",
   "metadata": {},
   "outputs": [
    {
     "name": "stdout",
     "output_type": "stream",
     "text": [
      "[1, 2, 3, 'neha', 'abc', 4.5, 8]\n"
     ]
    }
   ],
   "source": [
    "my_list.append(8)\n",
    "print(my_list)"
   ]
  },
  {
   "cell_type": "code",
   "execution_count": 11,
   "id": "9d34a19b",
   "metadata": {},
   "outputs": [
    {
     "name": "stdout",
     "output_type": "stream",
     "text": [
      "[1, 2, 3, 'abc', 4.5, 8]\n"
     ]
    }
   ],
   "source": [
    "my_list.remove('neha')\n",
    "print(my_list)"
   ]
  },
  {
   "cell_type": "code",
   "execution_count": 12,
   "id": "e1ec0b7d",
   "metadata": {},
   "outputs": [
    {
     "name": "stdout",
     "output_type": "stream",
     "text": [
      "[1, 2, 3, 'abc', 4.5]\n",
      "8\n"
     ]
    }
   ],
   "source": [
    "poped_item = my_list.pop()\n",
    "print(my_list)\n",
    "print(poped_item)"
   ]
  },
  {
   "cell_type": "code",
   "execution_count": 14,
   "id": "1581d0ed",
   "metadata": {},
   "outputs": [
    {
     "name": "stdout",
     "output_type": "stream",
     "text": [
      "[1, 2, 3, 'abc', 4.5, 451, 102.5, 7643, 'xyz', 'mn']\n"
     ]
    }
   ],
   "source": [
    "my_list.append(451)\n",
    "my_list.append(102.5)\n",
    "my_list.append(7643)\n",
    "my_list.append('xyz')\n",
    "my_list.append('mn')\n",
    "print(my_list)"
   ]
  },
  {
   "cell_type": "code",
   "execution_count": 20,
   "id": "461de47c",
   "metadata": {},
   "outputs": [
    {
     "data": {
      "text/plain": [
       "[2, 'abc', 451, 7643]"
      ]
     },
     "execution_count": 20,
     "metadata": {},
     "output_type": "execute_result"
    }
   ],
   "source": [
    "my_list[1:9:2]"
   ]
  },
  {
   "cell_type": "code",
   "execution_count": 21,
   "id": "17dab79f",
   "metadata": {},
   "outputs": [
    {
     "data": {
      "text/plain": [
       "[1, 2, 3, 'abc', 4.5, 451, 102.5, 7643, 'xyz', 'mn']"
      ]
     },
     "execution_count": 21,
     "metadata": {},
     "output_type": "execute_result"
    }
   ],
   "source": [
    "my_list"
   ]
  },
  {
   "cell_type": "code",
   "execution_count": 22,
   "id": "1cdc3366",
   "metadata": {},
   "outputs": [
    {
     "data": {
      "text/plain": [
       "['mn', 'xyz', 7643, 102.5, 451, 4.5, 'abc', 3, 2, 1]"
      ]
     },
     "execution_count": 22,
     "metadata": {},
     "output_type": "execute_result"
    }
   ],
   "source": [
    "my_list.reverse()\n",
    "my_list"
   ]
  },
  {
   "cell_type": "code",
   "execution_count": 23,
   "id": "009c4f1b",
   "metadata": {},
   "outputs": [
    {
     "data": {
      "text/plain": [
       "[]"
      ]
     },
     "execution_count": 23,
     "metadata": {},
     "output_type": "execute_result"
    }
   ],
   "source": [
    "my_list.clear()\n",
    "my_list"
   ]
  },
  {
   "cell_type": "code",
   "execution_count": 24,
   "id": "78a910d6",
   "metadata": {},
   "outputs": [
    {
     "data": {
      "text/plain": [
       "[1, 2, 3, 4, 5, 6]"
      ]
     },
     "execution_count": 24,
     "metadata": {},
     "output_type": "execute_result"
    }
   ],
   "source": [
    "my_list = [1,2,3,4,5,6]\n",
    "my_list"
   ]
  },
  {
   "cell_type": "code",
   "execution_count": null,
   "id": "9a2a3fd7",
   "metadata": {},
   "outputs": [],
   "source": []
  }
 ],
 "metadata": {
  "kernelspec": {
   "display_name": "Python 3 (ipykernel)",
   "language": "python",
   "name": "python3"
  },
  "language_info": {
   "codemirror_mode": {
    "name": "ipython",
    "version": 3
   },
   "file_extension": ".py",
   "mimetype": "text/x-python",
   "name": "python",
   "nbconvert_exporter": "python",
   "pygments_lexer": "ipython3",
   "version": "3.7.11"
  }
 },
 "nbformat": 4,
 "nbformat_minor": 5
}
