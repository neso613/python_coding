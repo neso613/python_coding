{
 "cells": [
  {
   "cell_type": "code",
   "execution_count": 2,
   "id": "5bc2af9a",
   "metadata": {},
   "outputs": [
    {
     "name": "stdout",
     "output_type": "stream",
     "text": [
      "[1, 1, 1, 1, 1, 0, 1]\n",
      "0 ... 1 1\n",
      "1 ... 1 1\n",
      "2 ... 1 1\n",
      "3 ... 1 1\n",
      "4 ... 1 0\n",
      "5 ... 0 1\n",
      "5\n"
     ]
    }
   ],
   "source": [
    "lis = []\n",
    "n =125\n",
    "while n > 0:\n",
    "    rem = n % 2        \n",
    "    n= int(n/2)# quotient\n",
    "    lis.append(rem)\n",
    "print(lis[::-1])\n",
    "def maxConsecutiveOnes(x):\n",
    "    # Initialize result\n",
    "    count = 1\n",
    "    # Count the number of iterations to\n",
    "    # reach x = 0.\n",
    "    for i in range(len(x)-1):\n",
    "        a = x[i]\n",
    "        b = x[i+1]\n",
    "        print(i,'...',a,b)\n",
    "        if a==b:\n",
    "            count=count+1\n",
    "    return count\n",
    "x = maxConsecutiveOnes(lis[::-1])\n",
    "print(x)"
   ]
  },
  {
   "cell_type": "code",
   "execution_count": null,
   "id": "e964c213",
   "metadata": {},
   "outputs": [],
   "source": []
  },
  {
   "cell_type": "code",
   "execution_count": null,
   "id": "a888be8c",
   "metadata": {},
   "outputs": [],
   "source": []
  }
 ],
 "metadata": {
  "kernelspec": {
   "display_name": "Python 3 (ipykernel)",
   "language": "python",
   "name": "python3"
  },
  "language_info": {
   "codemirror_mode": {
    "name": "ipython",
    "version": 3
   },
   "file_extension": ".py",
   "mimetype": "text/x-python",
   "name": "python",
   "nbconvert_exporter": "python",
   "pygments_lexer": "ipython3",
   "version": "3.7.11"
  }
 },
 "nbformat": 4,
 "nbformat_minor": 5
}
