{
 "cells": [
  {
   "cell_type": "markdown",
   "id": "3d6b1987",
   "metadata": {},
   "source": [
    "Suppose the following input is supplied to the program:\n",
    "hello world! 123\n",
    "Then, the output should be:\n",
    "LETTERS 10\n",
    "DIGITS 3"
   ]
  },
  {
   "cell_type": "code",
   "execution_count": 7,
   "id": "7a223e54",
   "metadata": {},
   "outputs": [],
   "source": [
    "def count(seq):\n",
    "    letters,digits = 0,0\n",
    "    for i in seq:\n",
    "        if i.isalpha():\n",
    "            letters += 1\n",
    "        elif i.isnumeric():\n",
    "            digits += 1\n",
    "        else:\n",
    "            continue\n",
    "    return print(\"LETTERS \",letters,\"\\nDIGITS \",digits)"
   ]
  },
  {
   "cell_type": "code",
   "execution_count": 8,
   "id": "9898789c",
   "metadata": {},
   "outputs": [
    {
     "name": "stdout",
     "output_type": "stream",
     "text": [
      "LETTERS  10 \n",
      "DIGITS  3\n"
     ]
    }
   ],
   "source": [
    "count('hello world! 123')"
   ]
  },
  {
   "cell_type": "code",
   "execution_count": null,
   "id": "4d7ad2fa",
   "metadata": {},
   "outputs": [],
   "source": []
  },
  {
   "cell_type": "code",
   "execution_count": null,
   "id": "14e40cd6",
   "metadata": {},
   "outputs": [],
   "source": []
  }
 ],
 "metadata": {
  "kernelspec": {
   "display_name": "Python 3 (ipykernel)",
   "language": "python",
   "name": "python3"
  },
  "language_info": {
   "codemirror_mode": {
    "name": "ipython",
    "version": 3
   },
   "file_extension": ".py",
   "mimetype": "text/x-python",
   "name": "python",
   "nbconvert_exporter": "python",
   "pygments_lexer": "ipython3",
   "version": "3.7.11"
  }
 },
 "nbformat": 4,
 "nbformat_minor": 5
}
