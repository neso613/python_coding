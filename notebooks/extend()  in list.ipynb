{
 "cells": [
  {
   "cell_type": "markdown",
   "id": "ecc37907",
   "metadata": {},
   "source": [
    ".extend() adds each value from a 2nd list as its own element. So extending a list with another list combines their values."
   ]
  },
  {
   "cell_type": "code",
   "execution_count": 1,
   "id": "ae2c8f61",
   "metadata": {},
   "outputs": [],
   "source": [
    "b = [1,2,3]\n",
    "b.extend([5,6])\n"
   ]
  },
  {
   "cell_type": "code",
   "execution_count": 2,
   "id": "ccba182e",
   "metadata": {},
   "outputs": [
    {
     "data": {
      "text/plain": [
       "[1, 2, 3, 5, 6]"
      ]
     },
     "execution_count": 2,
     "metadata": {},
     "output_type": "execute_result"
    }
   ],
   "source": [
    "b"
   ]
  },
  {
   "cell_type": "code",
   "execution_count": 3,
   "id": "2ff4fcef",
   "metadata": {},
   "outputs": [
    {
     "data": {
      "text/plain": [
       "[1, 2, 3, 5, 6, 0]"
      ]
     },
     "execution_count": 3,
     "metadata": {},
     "output_type": "execute_result"
    }
   ],
   "source": [
    "b.append(0)\n",
    "b"
   ]
  },
  {
   "cell_type": "code",
   "execution_count": null,
   "id": "31d97132",
   "metadata": {},
   "outputs": [],
   "source": []
  }
 ],
 "metadata": {
  "kernelspec": {
   "display_name": "Python 3 (ipykernel)",
   "language": "python",
   "name": "python3"
  },
  "language_info": {
   "codemirror_mode": {
    "name": "ipython",
    "version": 3
   },
   "file_extension": ".py",
   "mimetype": "text/x-python",
   "name": "python",
   "nbconvert_exporter": "python",
   "pygments_lexer": "ipython3",
   "version": "3.7.11"
  }
 },
 "nbformat": 4,
 "nbformat_minor": 5
}
