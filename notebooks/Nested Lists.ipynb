{
 "cells": [
  {
   "cell_type": "code",
   "execution_count": 30,
   "id": "04be6709",
   "metadata": {},
   "outputs": [
    {
     "name": "stdout",
     "output_type": "stream",
     "text": [
      "5\n",
      "shivam\n",
      "41\n",
      "neha\n",
      "36\n",
      "prasant\n",
      "32\n",
      "pallavi\n",
      "36\n",
      "dheeraj\n",
      "39\n"
     ]
    }
   ],
   "source": [
    "n = int(input())\n",
    "x = [[input(), float(input())] for _ in range(n)]"
   ]
  },
  {
   "cell_type": "code",
   "execution_count": 31,
   "id": "b897c2b1",
   "metadata": {},
   "outputs": [
    {
     "data": {
      "text/plain": [
       "36.0"
      ]
     },
     "execution_count": 31,
     "metadata": {},
     "output_type": "execute_result"
    }
   ],
   "source": [
    "second_highest = sorted(list(set([score for name, score in x])))[1]\n",
    "second_highest"
   ]
  },
  {
   "cell_type": "code",
   "execution_count": 32,
   "id": "503a9c9a",
   "metadata": {},
   "outputs": [
    {
     "name": "stdout",
     "output_type": "stream",
     "text": [
      "neha\n",
      "pallavi\n"
     ]
    }
   ],
   "source": [
    "print('\\n'.join([a for a,b in sorted(x) if b == second_highest]))"
   ]
  },
  {
   "cell_type": "code",
   "execution_count": null,
   "id": "5beb5d7b",
   "metadata": {},
   "outputs": [],
   "source": []
  }
 ],
 "metadata": {
  "kernelspec": {
   "display_name": "Python 3 (ipykernel)",
   "language": "python",
   "name": "python3"
  },
  "language_info": {
   "codemirror_mode": {
    "name": "ipython",
    "version": 3
   },
   "file_extension": ".py",
   "mimetype": "text/x-python",
   "name": "python",
   "nbconvert_exporter": "python",
   "pygments_lexer": "ipython3",
   "version": "3.7.11"
  }
 },
 "nbformat": 4,
 "nbformat_minor": 5
}
