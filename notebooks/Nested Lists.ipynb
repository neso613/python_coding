{
 "cells": [
  {
   "cell_type": "code",
   "execution_count": 1,
   "id": "0c9dc745",
   "metadata": {},
   "outputs": [
    {
     "name": "stdout",
     "output_type": "stream",
     "text": [
      "5\n",
      "harry\n",
      "37.21\n",
      "berry\n",
      "37.21\n",
      "harsh\n",
      "78\n",
      "tom\n",
      "90\n",
      "tim\n",
      "50\n"
     ]
    }
   ],
   "source": [
    "x=[]\n",
    "for _ in range(int(input())):\n",
    "    name = input()\n",
    "    score = float(input())\n",
    "    x.append([name,score])\n",
    "#n = int(input())\n",
    "#marksheet = [[input(), float(input())] for _ in range(n)]"
   ]
  },
  {
   "cell_type": "code",
   "execution_count": 22,
   "id": "ac12cb64",
   "metadata": {},
   "outputs": [
    {
     "name": "stdout",
     "output_type": "stream",
     "text": [
      "tim\n"
     ]
    }
   ],
   "source": [
    "list(set([marks for name, marks in x]))"
   ]
  },
  {
   "cell_type": "code",
   "execution_count": 17,
   "id": "e8c784e1",
   "metadata": {},
   "outputs": [
    {
     "data": {
      "text/plain": [
       "[['berry', 37.21],\n",
       " ['harry', 37.21],\n",
       " ['harsh', 78.0],\n",
       " ['tim', 50.0],\n",
       " ['tom', 90.0]]"
      ]
     },
     "execution_count": 17,
     "metadata": {},
     "output_type": "execute_result"
    }
   ],
   "source": [
    "res=sorted(x,key=lambda ele:(ele[0]))\n",
    "res"
   ]
  },
  {
   "cell_type": "code",
   "execution_count": null,
   "id": "9029a0c1",
   "metadata": {},
   "outputs": [],
   "source": []
  }
 ],
 "metadata": {
  "kernelspec": {
   "display_name": "Python 3 (ipykernel)",
   "language": "python",
   "name": "python3"
  },
  "language_info": {
   "codemirror_mode": {
    "name": "ipython",
    "version": 3
   },
   "file_extension": ".py",
   "mimetype": "text/x-python",
   "name": "python",
   "nbconvert_exporter": "python",
   "pygments_lexer": "ipython3",
   "version": "3.7.11"
  }
 },
 "nbformat": 4,
 "nbformat_minor": 5
}
