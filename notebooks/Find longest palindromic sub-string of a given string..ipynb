{
 "cells": [
  {
   "cell_type": "code",
   "execution_count": 1,
   "id": "e7baf287",
   "metadata": {},
   "outputs": [],
   "source": [
    "s = \"google\""
   ]
  },
  {
   "cell_type": "code",
   "execution_count": 2,
   "id": "9b274f38",
   "metadata": {},
   "outputs": [],
   "source": [
    "palindrome = []\n",
    "for i in range(len(s)):\n",
    "    low = i\n",
    "    high = i+1\n",
    "    while low >= 0 and high < len(s) and s[low]==s[high]:\n",
    "        palindrome.append(s[low:high+1])\n",
    "        low = low - 1\n",
    "        high = high + 1"
   ]
  },
  {
   "cell_type": "code",
   "execution_count": 3,
   "id": "1a05d869",
   "metadata": {},
   "outputs": [
    {
     "data": {
      "text/plain": [
       "['oo', 'goog']"
      ]
     },
     "execution_count": 3,
     "metadata": {},
     "output_type": "execute_result"
    }
   ],
   "source": [
    "palindrome"
   ]
  },
  {
   "cell_type": "code",
   "execution_count": 9,
   "id": "a521c64d",
   "metadata": {},
   "outputs": [],
   "source": [
    "tmp = 0\n",
    "def longest_seq(n):\n",
    "    global tmp\n",
    "    length = len(n)\n",
    "    if tmp < length:\n",
    "        tmp = length\n",
    "    return tmp\n",
    "longest_sub_string_list = list(map(longest_seq,palindrome))"
   ]
  },
  {
   "cell_type": "code",
   "execution_count": 17,
   "id": "6aebb73e",
   "metadata": {},
   "outputs": [
    {
     "name": "stdout",
     "output_type": "stream",
     "text": [
      "oo 2\n",
      "goog 4\n"
     ]
    }
   ],
   "source": [
    "tmp = 0\n",
    "for x,y in zip(palindrome,longest_sub_string_list):\n",
    "    print(x,y)"
   ]
  },
  {
   "cell_type": "code",
   "execution_count": null,
   "id": "9745b256",
   "metadata": {},
   "outputs": [],
   "source": []
  }
 ],
 "metadata": {
  "kernelspec": {
   "display_name": "Python 3 (ipykernel)",
   "language": "python",
   "name": "python3"
  },
  "language_info": {
   "codemirror_mode": {
    "name": "ipython",
    "version": 3
   },
   "file_extension": ".py",
   "mimetype": "text/x-python",
   "name": "python",
   "nbconvert_exporter": "python",
   "pygments_lexer": "ipython3",
   "version": "3.7.11"
  }
 },
 "nbformat": 4,
 "nbformat_minor": 5
}
