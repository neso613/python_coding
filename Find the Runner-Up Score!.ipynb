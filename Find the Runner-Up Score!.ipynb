{
 "cells": [
  {
   "cell_type": "code",
   "execution_count": 36,
   "id": "8acb3751",
   "metadata": {},
   "outputs": [
    {
     "data": {
      "text/plain": [
       "5"
      ]
     },
     "execution_count": 36,
     "metadata": {},
     "output_type": "execute_result"
    }
   ],
   "source": [
    "def runner_up(arr):\n",
    "    lis = list(arr)\n",
    "    winner = max(lis)\n",
    "    s = set(lis)\n",
    "    s.remove(winner)\n",
    "    return max(s)\n",
    "arr = map(int, '2 3 6 6 5'.split())\n",
    "runner_up(arr)"
   ]
  },
  {
   "cell_type": "code",
   "execution_count": null,
   "id": "e816c70c",
   "metadata": {},
   "outputs": [],
   "source": [
    "n = int(input())\n",
    "arr = map(int, input().split())"
   ]
  }
 ],
 "metadata": {
  "kernelspec": {
   "display_name": "Python 3 (ipykernel)",
   "language": "python",
   "name": "python3"
  },
  "language_info": {
   "codemirror_mode": {
    "name": "ipython",
    "version": 3
   },
   "file_extension": ".py",
   "mimetype": "text/x-python",
   "name": "python",
   "nbconvert_exporter": "python",
   "pygments_lexer": "ipython3",
   "version": "3.7.11"
  }
 },
 "nbformat": 4,
 "nbformat_minor": 5
}
